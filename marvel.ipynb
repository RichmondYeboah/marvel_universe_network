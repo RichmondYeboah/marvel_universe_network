{
 "cells": [
  {
   "cell_type": "code",
   "execution_count": 1,
   "metadata": {},
   "outputs": [],
   "source": [
    "\n",
    "from itertools import combinations\n",
    "import pandas as pd\n",
    "import numpy as np\n",
    "import networkx as nx \n",
    "import plotly.graph_objects as go\n",
    "from plotly.subplots import make_subplots"
   ]
  },
  {
   "cell_type": "code",
   "execution_count": 2,
   "metadata": {
    "collapsed": false
   },
   "outputs": [
    {
     "data": {
      "text/html": [
       "<div>\n",
       "<style scoped>\n",
       "    .dataframe tbody tr th:only-of-type {\n",
       "        vertical-align: middle;\n",
       "    }\n",
       "\n",
       "    .dataframe tbody tr th {\n",
       "        vertical-align: top;\n",
       "    }\n",
       "\n",
       "    .dataframe thead th {\n",
       "        text-align: right;\n",
       "    }\n",
       "</style>\n",
       "<table border=\"1\" class=\"dataframe\">\n",
       "  <thead>\n",
       "    <tr style=\"text-align: right;\">\n",
       "      <th></th>\n",
       "      <th>hero</th>\n",
       "      <th>comic</th>\n",
       "    </tr>\n",
       "  </thead>\n",
       "  <tbody>\n",
       "    <tr>\n",
       "      <th>0</th>\n",
       "      <td>24-HOUR MAN/EMMANUEL</td>\n",
       "      <td>AA2 35</td>\n",
       "    </tr>\n",
       "    <tr>\n",
       "      <th>1</th>\n",
       "      <td>3-D MAN/CHARLES CHAN</td>\n",
       "      <td>AVF 4</td>\n",
       "    </tr>\n",
       "    <tr>\n",
       "      <th>2</th>\n",
       "      <td>3-D MAN/CHARLES CHAN</td>\n",
       "      <td>AVF 5</td>\n",
       "    </tr>\n",
       "    <tr>\n",
       "      <th>3</th>\n",
       "      <td>3-D MAN/CHARLES CHAN</td>\n",
       "      <td>COC 1</td>\n",
       "    </tr>\n",
       "    <tr>\n",
       "      <th>4</th>\n",
       "      <td>3-D MAN/CHARLES CHAN</td>\n",
       "      <td>H2 251</td>\n",
       "    </tr>\n",
       "  </tbody>\n",
       "</table>\n",
       "</div>"
      ],
      "text/plain": [
       "                   hero   comic\n",
       "0  24-HOUR MAN/EMMANUEL  AA2 35\n",
       "1  3-D MAN/CHARLES CHAN   AVF 4\n",
       "2  3-D MAN/CHARLES CHAN   AVF 5\n",
       "3  3-D MAN/CHARLES CHAN   COC 1\n",
       "4  3-D MAN/CHARLES CHAN  H2 251"
      ]
     },
     "execution_count": 2,
     "metadata": {},
     "output_type": "execute_result"
    }
   ],
   "source": [
    "edge_df = pd.read_csv('edges.csv')\n",
    "edge_df.head()"
   ]
  },
  {
   "cell_type": "code",
   "execution_count": 3,
   "metadata": {
    "collapsed": false
   },
   "outputs": [
    {
     "data": {
      "text/html": [
       "<div>\n",
       "<style scoped>\n",
       "    .dataframe tbody tr th:only-of-type {\n",
       "        vertical-align: middle;\n",
       "    }\n",
       "\n",
       "    .dataframe tbody tr th {\n",
       "        vertical-align: top;\n",
       "    }\n",
       "\n",
       "    .dataframe thead th {\n",
       "        text-align: right;\n",
       "    }\n",
       "</style>\n",
       "<table border=\"1\" class=\"dataframe\">\n",
       "  <thead>\n",
       "    <tr style=\"text-align: right;\">\n",
       "      <th></th>\n",
       "      <th>node</th>\n",
       "      <th>type</th>\n",
       "    </tr>\n",
       "  </thead>\n",
       "  <tbody>\n",
       "    <tr>\n",
       "      <th>0</th>\n",
       "      <td>2001 10</td>\n",
       "      <td>comic</td>\n",
       "    </tr>\n",
       "    <tr>\n",
       "      <th>1</th>\n",
       "      <td>2001 8</td>\n",
       "      <td>comic</td>\n",
       "    </tr>\n",
       "    <tr>\n",
       "      <th>2</th>\n",
       "      <td>2001 9</td>\n",
       "      <td>comic</td>\n",
       "    </tr>\n",
       "    <tr>\n",
       "      <th>3</th>\n",
       "      <td>24-HOUR MAN/EMMANUEL</td>\n",
       "      <td>hero</td>\n",
       "    </tr>\n",
       "    <tr>\n",
       "      <th>4</th>\n",
       "      <td>3-D MAN/CHARLES CHAN</td>\n",
       "      <td>hero</td>\n",
       "    </tr>\n",
       "  </tbody>\n",
       "</table>\n",
       "</div>"
      ],
      "text/plain": [
       "                   node   type\n",
       "0               2001 10  comic\n",
       "1                2001 8  comic\n",
       "2                2001 9  comic\n",
       "3  24-HOUR MAN/EMMANUEL   hero\n",
       "4  3-D MAN/CHARLES CHAN   hero"
      ]
     },
     "execution_count": 3,
     "metadata": {},
     "output_type": "execute_result"
    }
   ],
   "source": [
    "node_df = pd.read_csv('nodes.csv')\n",
    "node_df.head()"
   ]
  },
  {
   "cell_type": "code",
   "execution_count": 4,
   "metadata": {
    "collapsed": false
   },
   "outputs": [
    {
     "data": {
      "text/html": [
       "<div>\n",
       "<style scoped>\n",
       "    .dataframe tbody tr th:only-of-type {\n",
       "        vertical-align: middle;\n",
       "    }\n",
       "\n",
       "    .dataframe tbody tr th {\n",
       "        vertical-align: top;\n",
       "    }\n",
       "\n",
       "    .dataframe thead th {\n",
       "        text-align: right;\n",
       "    }\n",
       "</style>\n",
       "<table border=\"1\" class=\"dataframe\">\n",
       "  <thead>\n",
       "    <tr style=\"text-align: right;\">\n",
       "      <th></th>\n",
       "      <th>hero1</th>\n",
       "      <th>hero2</th>\n",
       "    </tr>\n",
       "  </thead>\n",
       "  <tbody>\n",
       "    <tr>\n",
       "      <th>0</th>\n",
       "      <td>LITTLE, ABNER</td>\n",
       "      <td>PRINCESS ZANDA</td>\n",
       "    </tr>\n",
       "    <tr>\n",
       "      <th>1</th>\n",
       "      <td>LITTLE, ABNER</td>\n",
       "      <td>BLACK PANTHER/T'CHAL</td>\n",
       "    </tr>\n",
       "    <tr>\n",
       "      <th>2</th>\n",
       "      <td>BLACK PANTHER/T'CHAL</td>\n",
       "      <td>PRINCESS ZANDA</td>\n",
       "    </tr>\n",
       "    <tr>\n",
       "      <th>3</th>\n",
       "      <td>LITTLE, ABNER</td>\n",
       "      <td>PRINCESS ZANDA</td>\n",
       "    </tr>\n",
       "    <tr>\n",
       "      <th>4</th>\n",
       "      <td>LITTLE, ABNER</td>\n",
       "      <td>BLACK PANTHER/T'CHAL</td>\n",
       "    </tr>\n",
       "  </tbody>\n",
       "</table>\n",
       "</div>"
      ],
      "text/plain": [
       "                  hero1                 hero2\n",
       "0         LITTLE, ABNER        PRINCESS ZANDA\n",
       "1         LITTLE, ABNER  BLACK PANTHER/T'CHAL\n",
       "2  BLACK PANTHER/T'CHAL        PRINCESS ZANDA\n",
       "3         LITTLE, ABNER        PRINCESS ZANDA\n",
       "4         LITTLE, ABNER  BLACK PANTHER/T'CHAL"
      ]
     },
     "execution_count": 4,
     "metadata": {},
     "output_type": "execute_result"
    }
   ],
   "source": [
    "hero_net_df = pd.read_csv('hero-network.csv')\n",
    "hero_net_df.head()"
   ]
  },
  {
   "cell_type": "code",
   "execution_count": 5,
   "metadata": {
    "collapsed": false
   },
   "outputs": [
    {
     "data": {
      "text/html": [
       "<div>\n",
       "<style scoped>\n",
       "    .dataframe tbody tr th:only-of-type {\n",
       "        vertical-align: middle;\n",
       "    }\n",
       "\n",
       "    .dataframe tbody tr th {\n",
       "        vertical-align: top;\n",
       "    }\n",
       "\n",
       "    .dataframe thead th {\n",
       "        text-align: right;\n",
       "    }\n",
       "</style>\n",
       "<table border=\"1\" class=\"dataframe\">\n",
       "  <thead>\n",
       "    <tr style=\"text-align: right;\">\n",
       "      <th></th>\n",
       "      <th>edges.csv</th>\n",
       "      <th>hero-network.csv</th>\n",
       "    </tr>\n",
       "  </thead>\n",
       "  <tbody>\n",
       "    <tr>\n",
       "      <th>0</th>\n",
       "      <td>BEACH, SPIDER</td>\n",
       "      <td>BEACH, SPIDER</td>\n",
       "    </tr>\n",
       "    <tr>\n",
       "      <th>1</th>\n",
       "      <td>BLOOD SPIDER/</td>\n",
       "      <td>BLOOD SPIDER/</td>\n",
       "    </tr>\n",
       "    <tr>\n",
       "      <th>2</th>\n",
       "      <td>MAN-SPIDER CLONE | M</td>\n",
       "      <td>MAN-SPIDER CLONE | M</td>\n",
       "    </tr>\n",
       "    <tr>\n",
       "      <th>3</th>\n",
       "      <td>MAN-SPIDER | MUTANT</td>\n",
       "      <td>MAN-SPIDER | MUTANT</td>\n",
       "    </tr>\n",
       "    <tr>\n",
       "      <th>4</th>\n",
       "      <td>SPIDER-MAN CLONE/BEN</td>\n",
       "      <td>SPIDER-MAN CLONE/BEN</td>\n",
       "    </tr>\n",
       "    <tr>\n",
       "      <th>5</th>\n",
       "      <td>SPIDER-MAN III/MARTH</td>\n",
       "      <td>SPIDER-MAN III/MARTH</td>\n",
       "    </tr>\n",
       "    <tr>\n",
       "      <th>6</th>\n",
       "      <td>SPIDER-MAN/PETER PARKER</td>\n",
       "      <td>SPIDER-MAN/PETER PAR</td>\n",
       "    </tr>\n",
       "    <tr>\n",
       "      <th>7</th>\n",
       "      <td>SPIDER-WOMAN DOPPELG</td>\n",
       "      <td>SPIDER-WOMAN DOPPELG</td>\n",
       "    </tr>\n",
       "    <tr>\n",
       "      <th>8</th>\n",
       "      <td>SPIDER-WOMAN II/JULI</td>\n",
       "      <td>SPIDER-WOMAN II/JULI</td>\n",
       "    </tr>\n",
       "    <tr>\n",
       "      <th>9</th>\n",
       "      <td>SPIDER-WOMAN IV/CHAR</td>\n",
       "      <td>SPIDER-WOMAN IV/CHAR</td>\n",
       "    </tr>\n",
       "    <tr>\n",
       "      <th>10</th>\n",
       "      <td>SPIDER-WOMAN/JESSICA</td>\n",
       "      <td>SPIDER-WOMAN/JESSICA</td>\n",
       "    </tr>\n",
       "    <tr>\n",
       "      <th>11</th>\n",
       "      <td>SPIDERCIDE</td>\n",
       "      <td>SPIDERCIDE</td>\n",
       "    </tr>\n",
       "    <tr>\n",
       "      <th>12</th>\n",
       "      <td>STEEL SPIDER/OLLIE O</td>\n",
       "      <td>STEEL SPIDER/OLLIE O</td>\n",
       "    </tr>\n",
       "  </tbody>\n",
       "</table>\n",
       "</div>"
      ],
      "text/plain": [
       "                  edges.csv      hero-network.csv\n",
       "0             BEACH, SPIDER         BEACH, SPIDER\n",
       "1             BLOOD SPIDER/         BLOOD SPIDER/\n",
       "2      MAN-SPIDER CLONE | M  MAN-SPIDER CLONE | M\n",
       "3       MAN-SPIDER | MUTANT  MAN-SPIDER | MUTANT \n",
       "4      SPIDER-MAN CLONE/BEN  SPIDER-MAN CLONE/BEN\n",
       "5      SPIDER-MAN III/MARTH  SPIDER-MAN III/MARTH\n",
       "6   SPIDER-MAN/PETER PARKER  SPIDER-MAN/PETER PAR\n",
       "7      SPIDER-WOMAN DOPPELG  SPIDER-WOMAN DOPPELG\n",
       "8      SPIDER-WOMAN II/JULI  SPIDER-WOMAN II/JULI\n",
       "9      SPIDER-WOMAN IV/CHAR  SPIDER-WOMAN IV/CHAR\n",
       "10     SPIDER-WOMAN/JESSICA  SPIDER-WOMAN/JESSICA\n",
       "11               SPIDERCIDE            SPIDERCIDE\n",
       "12     STEEL SPIDER/OLLIE O  STEEL SPIDER/OLLIE O"
      ]
     },
     "metadata": {},
     "output_type": "display_data"
    },
    {
     "name": "stdout",
     "output_type": "stream",
     "text": [
      "hero1 name max in hero-network.csv : 20\n",
      "hero2 name max in hero-network.csv : 20\n"
     ]
    }
   ],
   "source": [
    "temp = pd.DataFrame({'edges.csv':sorted([h for h in edge_df['hero'].unique() if 'SPIDER' in h]),\n",
    "                     'hero-network.csv':sorted([h for h in hero_net_df['hero1'].unique() if 'SPIDER' in h])})\n",
    "\n",
    "display(temp)\n",
    "\n",
    "for c in ['hero1', 'hero2']:\n",
    "    print(f\"{c} name max in hero-network.csv : {max(hero_net_df[c].apply(lambda x : len(x)))}\")\n",
    "    \n",
    "\n",
    "# Name Preprocessing\n",
    "for c in ['hero1', 'hero2']:\n",
    "    hero_net_df[c] = hero_net_df[c].apply(lambda x : x[:20].split(\"/\")[0])\n",
    "edge_df['hero'] = edge_df['hero'].apply(lambda x : x[:20].split(\"/\")[0])"
   ]
  },
  {
   "cell_type": "code",
   "execution_count": 6,
   "metadata": {
    "collapsed": false
   },
   "outputs": [
    {
     "name": "stdout",
     "output_type": "stream",
     "text": [
      "SPIDER & HULK in hero-network.csv\n",
      "hero1=SPIDER-MAN, hero2=HULK : 43\n",
      "hero1=HULK, hero2=SPIDER-MAN : 50\n",
      "Intersection in edges.csv : 93\n"
     ]
    }
   ],
   "source": [
    "print(\"SPIDER & HULK in hero-network.csv\")\n",
    "print(f\"hero1=SPIDER-MAN, hero2=HULK : {len(hero_net_df[(hero_net_df['hero1']=='SPIDER-MAN')&(hero_net_df['hero2']=='HULK')])}\")\n",
    "print(f\"hero1=HULK, hero2=SPIDER-MAN : {len(hero_net_df[(hero_net_df['hero2']=='SPIDER-MAN')&(hero_net_df['hero1']=='HULK')])}\")\n",
    "\n",
    "temp1 = set(edge_df[edge_df['hero']=='SPIDER-MAN']['comic'])\n",
    "temp2 = set(edge_df[edge_df['hero']=='HULK']['comic'])\n",
    "print(f\"Intersection in edges.csv : {len(temp1.intersection(temp2))}\")"
   ]
  },
  {
   "cell_type": "code",
   "execution_count": 12,
   "metadata": {},
   "outputs": [
    {
     "data": {
      "text/html": [
       "<div>\n",
       "<style scoped>\n",
       "    .dataframe tbody tr th:only-of-type {\n",
       "        vertical-align: middle;\n",
       "    }\n",
       "\n",
       "    .dataframe tbody tr th {\n",
       "        vertical-align: top;\n",
       "    }\n",
       "\n",
       "    .dataframe thead th {\n",
       "        text-align: right;\n",
       "    }\n",
       "</style>\n",
       "<table border=\"1\" class=\"dataframe\">\n",
       "  <thead>\n",
       "    <tr style=\"text-align: right;\">\n",
       "      <th></th>\n",
       "      <th>H1</th>\n",
       "      <th>H2</th>\n",
       "      <th>CNT</th>\n",
       "    </tr>\n",
       "  </thead>\n",
       "  <tbody>\n",
       "    <tr>\n",
       "      <th>0</th>\n",
       "      <td>SPIDER-MAN</td>\n",
       "      <td>CAPTAIN AMERICA</td>\n",
       "      <td>145</td>\n",
       "    </tr>\n",
       "    <tr>\n",
       "      <th>1</th>\n",
       "      <td>SPIDER-MAN</td>\n",
       "      <td>IRON MAN</td>\n",
       "      <td>95</td>\n",
       "    </tr>\n",
       "    <tr>\n",
       "      <th>2</th>\n",
       "      <td>SPIDER-MAN</td>\n",
       "      <td>THING</td>\n",
       "      <td>125</td>\n",
       "    </tr>\n",
       "    <tr>\n",
       "      <th>3</th>\n",
       "      <td>SPIDER-MAN</td>\n",
       "      <td>THOR</td>\n",
       "      <td>96</td>\n",
       "    </tr>\n",
       "    <tr>\n",
       "      <th>4</th>\n",
       "      <td>SPIDER-MAN</td>\n",
       "      <td>HUMAN TORCH</td>\n",
       "      <td>147</td>\n",
       "    </tr>\n",
       "    <tr>\n",
       "      <th>5</th>\n",
       "      <td>SPIDER-MAN</td>\n",
       "      <td>MR. FANTASTIC</td>\n",
       "      <td>120</td>\n",
       "    </tr>\n",
       "    <tr>\n",
       "      <th>6</th>\n",
       "      <td>SPIDER-MAN</td>\n",
       "      <td>HULK</td>\n",
       "      <td>93</td>\n",
       "    </tr>\n",
       "    <tr>\n",
       "      <th>7</th>\n",
       "      <td>SPIDER-MAN</td>\n",
       "      <td>WOLVERINE</td>\n",
       "      <td>63</td>\n",
       "    </tr>\n",
       "    <tr>\n",
       "      <th>8</th>\n",
       "      <td>SPIDER-MAN</td>\n",
       "      <td>INVISIBLE WOMAN</td>\n",
       "      <td>97</td>\n",
       "    </tr>\n",
       "    <tr>\n",
       "      <th>9</th>\n",
       "      <td>SPIDER-MAN</td>\n",
       "      <td>SCARLET WITCH</td>\n",
       "      <td>67</td>\n",
       "    </tr>\n",
       "  </tbody>\n",
       "</table>\n",
       "</div>"
      ],
      "text/plain": [
       "           H1               H2  CNT\n",
       "0  SPIDER-MAN  CAPTAIN AMERICA  145\n",
       "1  SPIDER-MAN         IRON MAN   95\n",
       "2  SPIDER-MAN            THING  125\n",
       "3  SPIDER-MAN             THOR   96\n",
       "4  SPIDER-MAN      HUMAN TORCH  147\n",
       "5  SPIDER-MAN    MR. FANTASTIC  120\n",
       "6  SPIDER-MAN             HULK   93\n",
       "7  SPIDER-MAN        WOLVERINE   63\n",
       "8  SPIDER-MAN  INVISIBLE WOMAN   97\n",
       "9  SPIDER-MAN    SCARLET WITCH   67"
      ]
     },
     "metadata": {},
     "output_type": "display_data"
    }
   ],
   "source": [
    "topn = 25\n",
    "topn_hero = edge_df.groupby(['hero'])[['comic']].count().sort_values(by=['comic'], ascending=False).head(topn).index\n",
    "\n",
    "h1_ = []; h2_ = []; cnt_ = [];\n",
    "for comb in list(combinations(topn_hero, 2)):    \n",
    "    temp1 = set(edge_df[edge_df['hero']==comb[0]]['comic'])\n",
    "    temp2 = set(edge_df[edge_df['hero']==comb[1]]['comic'])\n",
    "    cnt = len(temp1.intersection(temp2)) # Appear Together    \n",
    "    h1_.append(comb[0]); h2_.append(comb[1]); cnt_.append(cnt);\n",
    "appto_df = pd.DataFrame({'H1':h1_, 'H2':h2_, 'CNT':cnt_})\n",
    "\n",
    "display(appto_df.head(10))"
   ]
  },
  {
   "cell_type": "code",
   "execution_count": 8,
   "metadata": {},
   "outputs": [],
   "source": [
    "HERO_COLOR = {\n",
    "    'CAPTAIN AMERICA':'darkblue',\n",
    "    'IRON MAN':'gold',\n",
    "    'SPIDER-MAN':'darkred',\n",
    "    'HULK':'forestgreen',\n",
    "    'THOR':'lightblue',\n",
    "    'DR. STRANGE':'purple'\n",
    "}\n",
    "\n",
    "## Initialize graph\n",
    "marvel_net = nx.Graph() \n",
    "for i, row in appto_df.iterrows():\n",
    "    marvel_net.add_edge(row['H1'], row['H2'], weight=row['CNT'])  # specify edge data\n",
    "\n",
    "## Get positions for the nodes in network\n",
    "pos_ = nx.spring_layout(marvel_net, seed=11)\n",
    "cent_ = nx.pagerank(marvel_net, weight='weight') # page rank\n",
    "cent_top = sorted(cent_.items(), key=lambda item: item[1], reverse=True)[:1] # page rank top 1\n"
   ]
  },
  {
   "cell_type": "code",
   "execution_count": 9,
   "metadata": {},
   "outputs": [
    {
     "data": {
      "application/vnd.plotly.v1+json": {
       "config": {
        "plotlyServerURL": "https://plot.ly"
       },
       "data": [
        {
         "hoverinfo": "text",
         "line": {
          "color": "lightgray",
          "width": 1.0013812154696131
         },
         "mode": "lines",
         "text": [
          null
         ],
         "type": "scatter",
         "x": [
          0.1791570116702574,
          0.016489142597232755,
          null
         ],
         "y": [
          -0.49098843293151323,
          0.13119068431089737,
          null
         ]
        },
        {
         "hoverinfo": "text",
         "line": {
          "color": "lightgray",
          "width": 0.6560773480662984
         },
         "mode": "lines",
         "text": [
          null
         ],
         "type": "scatter",
         "x": [
          0.1791570116702574,
          0.22733406589452143,
          null
         ],
         "y": [
          -0.49098843293151323,
          -0.019778729129045065,
          null
         ]
        },
        {
         "hoverinfo": "text",
         "line": {
          "color": "lightgray",
          "width": 0.8632596685082873
         },
         "mode": "lines",
         "text": [
          null
         ],
         "type": "scatter",
         "x": [
          0.1791570116702574,
          -0.16200210966186554,
          null
         ],
         "y": [
          -0.49098843293151323,
          0.031109907824041563,
          null
         ]
        },
        {
         "hoverinfo": "text",
         "line": {
          "color": "lightgray",
          "width": 0.6629834254143646
         },
         "mode": "lines",
         "text": [
          null
         ],
         "type": "scatter",
         "x": [
          0.1791570116702574,
          0.43841988598347487,
          null
         ],
         "y": [
          -0.49098843293151323,
          -0.045546826723280295,
          null
         ]
        },
        {
         "hoverinfo": "text",
         "line": {
          "color": "lightgray",
          "width": 1.0151933701657458
         },
         "mode": "lines",
         "text": [
          null
         ],
         "type": "scatter",
         "x": [
          0.1791570116702574,
          -0.17591175735581896,
          null
         ],
         "y": [
          -0.49098843293151323,
          -0.12418361613540607,
          null
         ]
        },
        {
         "hoverinfo": "text",
         "line": {
          "color": "lightgray",
          "width": 0.8287292817679558
         },
         "mode": "lines",
         "text": [
          null
         ],
         "type": "scatter",
         "x": [
          0.1791570116702574,
          -0.0767423723202436,
          null
         ],
         "y": [
          -0.49098843293151323,
          -0.30276218734028143,
          null
         ]
        },
        {
         "hoverinfo": "text",
         "line": {
          "color": "lightgray",
          "width": 0.6422651933701657
         },
         "mode": "lines",
         "text": [
          null
         ],
         "type": "scatter",
         "x": [
          0.1791570116702574,
          -0.28632724718262753,
          null
         ],
         "y": [
          -0.49098843293151323,
          0.18576515646533498,
          null
         ]
        },
        {
         "hoverinfo": "text",
         "line": {
          "color": "lightgray",
          "width": 0.4350828729281768
         },
         "mode": "lines",
         "text": [
          null
         ],
         "type": "scatter",
         "x": [
          0.1791570116702574,
          -0.571040093912385,
          null
         ],
         "y": [
          -0.49098843293151323,
          0.2719947043901977,
          null
         ]
        },
        {
         "hoverinfo": "text",
         "line": {
          "color": "lightgray",
          "width": 0.6698895027624309
         },
         "mode": "lines",
         "text": [
          null
         ],
         "type": "scatter",
         "x": [
          0.1791570116702574,
          0.07709785070579007,
          null
         ],
         "y": [
          -0.49098843293151323,
          -0.1776465222512632,
          null
         ]
        },
        {
         "hoverinfo": "text",
         "line": {
          "color": "lightgray",
          "width": 0.462707182320442
         },
         "mode": "lines",
         "text": [
          null
         ],
         "type": "scatter",
         "x": [
          0.1791570116702574,
          0.1732404570685771,
          null
         ],
         "y": [
          -0.49098843293151323,
          0.3809486423258723,
          null
         ]
        },
        {
         "hoverinfo": "text",
         "line": {
          "color": "lightgray",
          "width": 0.3591160220994475
         },
         "mode": "lines",
         "text": [
          null
         ],
         "type": "scatter",
         "x": [
          0.1791570116702574,
          -0.029390811224429676,
          null
         ],
         "y": [
          -0.49098843293151323,
          0.49680354997358006,
          null
         ]
        },
        {
         "hoverinfo": "text",
         "line": {
          "color": "lightgray",
          "width": 0.49723756906077343
         },
         "mode": "lines",
         "text": [
          null
         ],
         "type": "scatter",
         "x": [
          0.1791570116702574,
          -0.43833329307860847,
          null
         ],
         "y": [
          -0.49098843293151323,
          -0.13293892873944937,
          null
         ]
        },
        {
         "hoverinfo": "text",
         "line": {
          "color": "lightgray",
          "width": 4.240331491712707
         },
         "mode": "lines",
         "text": [
          null
         ],
         "type": "scatter",
         "x": [
          0.1791570116702574,
          0.4305859558793946,
          null
         ],
         "y": [
          -0.49098843293151323,
          -1,
          null
         ]
        },
        {
         "hoverinfo": "text",
         "line": {
          "color": "lightgray",
          "width": 0.7113259668508287
         },
         "mode": "lines",
         "text": [
          null
         ],
         "type": "scatter",
         "x": [
          0.1791570116702574,
          0.49297293583416324,
          null
         ],
         "y": [
          -0.49098843293151323,
          -0.36599264852099705,
          null
         ]
        },
        {
         "hoverinfo": "text",
         "line": {
          "color": "lightgray",
          "width": 0.39364640883977897
         },
         "mode": "lines",
         "text": [
          null
         ],
         "type": "scatter",
         "x": [
          0.1791570116702574,
          0.395890985874124,
          null
         ],
         "y": [
          -0.49098843293151323,
          0.42065408068796334,
          null
         ]
        },
        {
         "hoverinfo": "text",
         "line": {
          "color": "lightgray",
          "width": 0.511049723756906
         },
         "mode": "lines",
         "text": [
          null
         ],
         "type": "scatter",
         "x": [
          0.1791570116702574,
          0.3147083241184152,
          null
         ],
         "y": [
          -0.49098843293151323,
          0.07681198567342987,
          null
         ]
        },
        {
         "hoverinfo": "text",
         "line": {
          "color": "lightgray",
          "width": 0.35220994475138123
         },
         "mode": "lines",
         "text": [
          null
         ],
         "type": "scatter",
         "x": [
          0.1791570116702574,
          -0.1897337978748282,
          null
         ],
         "y": [
          -0.49098843293151323,
          0.6034857489615423,
          null
         ]
        },
        {
         "hoverinfo": "text",
         "line": {
          "color": "lightgray",
          "width": 0.5386740331491713
         },
         "mode": "lines",
         "text": [
          null
         ],
         "type": "scatter",
         "x": [
          0.1791570116702574,
          0.3334044306573679,
          null
         ],
         "y": [
          -0.49098843293151323,
          0.24181383235872508,
          null
         ]
        },
        {
         "hoverinfo": "text",
         "line": {
          "color": "lightgray",
          "width": 3.5497237569060776
         },
         "mode": "lines",
         "text": [
          null
         ],
         "type": "scatter",
         "x": [
          0.1791570116702574,
          0.09931208437462029,
          null
         ],
         "y": [
          -0.49098843293151323,
          -0.7937135077048361,
          null
         ]
        },
        {
         "hoverinfo": "text",
         "line": {
          "color": "lightgray",
          "width": 0.31767955801104975
         },
         "mode": "lines",
         "text": [
          null
         ],
         "type": "scatter",
         "x": [
          0.1791570116702574,
          0.5717712605144891,
          null
         ],
         "y": [
          -0.49098843293151323,
          0.24522090091834714,
          null
         ]
        },
        {
         "hoverinfo": "text",
         "line": {
          "color": "lightgray",
          "width": 0.3314917127071823
         },
         "mode": "lines",
         "text": [
          null
         ],
         "type": "scatter",
         "x": [
          0.1791570116702574,
          -0.22855420308682362,
          null
         ],
         "y": [
          -0.49098843293151323,
          -0.5056353268290954,
          null
         ]
        },
        {
         "hoverinfo": "text",
         "line": {
          "color": "lightgray",
          "width": 0.2900552486187845
         },
         "mode": "lines",
         "text": [
          null
         ],
         "type": "scatter",
         "x": [
          0.1791570116702574,
          -0.418076518096579,
          null
         ],
         "y": [
          -0.49098843293151323,
          0.6339746388849864,
          null
         ]
        },
        {
         "hoverinfo": "text",
         "line": {
          "color": "lightgray",
          "width": 0.2900552486187845
         },
         "mode": "lines",
         "text": [
          null
         ],
         "type": "scatter",
         "x": [
          0.1791570116702574,
          -0.5516397077201168,
          null
         ],
         "y": [
          -0.49098843293151323,
          0.47744632400319703,
          null
         ]
        },
        {
         "hoverinfo": "text",
         "line": {
          "color": "lightgray",
          "width": 0.22790055248618785
         },
         "mode": "lines",
         "text": [
          null
         ],
         "type": "scatter",
         "x": [
          0.1791570116702574,
          -0.6226324796581008,
          null
         ],
         "y": [
          -0.49098843293151323,
          -0.2380334304729279,
          null
         ]
        },
        {
         "hoverinfo": "text",
         "line": {
          "color": "lightgray",
          "width": 3.0386740331491713
         },
         "mode": "lines",
         "text": [
          null
         ],
         "type": "scatter",
         "x": [
          0.016489142597232755,
          0.22733406589452143,
          null
         ],
         "y": [
          0.13119068431089737,
          -0.019778729129045065,
          null
         ]
        },
        {
         "hoverinfo": "text",
         "line": {
          "color": "lightgray",
          "width": 1.1740331491712708
         },
         "mode": "lines",
         "text": [
          null
         ],
         "type": "scatter",
         "x": [
          0.016489142597232755,
          -0.16200210966186554,
          null
         ],
         "y": [
          0.13119068431089737,
          0.031109907824041563,
          null
         ]
        },
        {
         "hoverinfo": "text",
         "line": {
          "color": "lightgray",
          "width": 2.6243093922651934
         },
         "mode": "lines",
         "text": [
          null
         ],
         "type": "scatter",
         "x": [
          0.016489142597232755,
          0.43841988598347487,
          null
         ],
         "y": [
          0.13119068431089737,
          -0.045546826723280295,
          null
         ]
        },
        {
         "hoverinfo": "text",
         "line": {
          "color": "lightgray",
          "width": 1.1187845303867403
         },
         "mode": "lines",
         "text": [
          null
         ],
         "type": "scatter",
         "x": [
          0.016489142597232755,
          -0.17591175735581896,
          null
         ],
         "y": [
          0.13119068431089737,
          -0.12418361613540607,
          null
         ]
        },
        {
         "hoverinfo": "text",
         "line": {
          "color": "lightgray",
          "width": 1.1533149171270718
         },
         "mode": "lines",
         "text": [
          null
         ],
         "type": "scatter",
         "x": [
          0.016489142597232755,
          -0.0767423723202436,
          null
         ],
         "y": [
          0.13119068431089737,
          -0.30276218734028143,
          null
         ]
        },
        {
         "hoverinfo": "text",
         "line": {
          "color": "lightgray",
          "width": 0.7803867403314917
         },
         "mode": "lines",
         "text": [
          null
         ],
         "type": "scatter",
         "x": [
          0.016489142597232755,
          -0.28632724718262753,
          null
         ],
         "y": [
          0.13119068431089737,
          0.18576515646533498,
          null
         ]
        },
        {
         "hoverinfo": "text",
         "line": {
          "color": "lightgray",
          "width": 0.5455801104972375
         },
         "mode": "lines",
         "text": [
          null
         ],
         "type": "scatter",
         "x": [
          0.016489142597232755,
          -0.571040093912385,
          null
         ],
         "y": [
          0.13119068431089737,
          0.2719947043901977,
          null
         ]
        },
        {
         "hoverinfo": "text",
         "line": {
          "color": "lightgray",
          "width": 1.042817679558011
         },
         "mode": "lines",
         "text": [
          null
         ],
         "type": "scatter",
         "x": [
          0.016489142597232755,
          0.07709785070579007,
          null
         ],
         "y": [
          0.13119068431089737,
          -0.1776465222512632,
          null
         ]
        },
        {
         "hoverinfo": "text",
         "line": {
          "color": "lightgray",
          "width": 2.5759668508287294
         },
         "mode": "lines",
         "text": [
          null
         ],
         "type": "scatter",
         "x": [
          0.016489142597232755,
          0.1732404570685771,
          null
         ],
         "y": [
          0.13119068431089737,
          0.3809486423258723,
          null
         ]
        },
        {
         "hoverinfo": "text",
         "line": {
          "color": "lightgray",
          "width": 1.1671270718232043
         },
         "mode": "lines",
         "text": [
          null
         ],
         "type": "scatter",
         "x": [
          0.016489142597232755,
          -0.029390811224429676,
          null
         ],
         "y": [
          0.13119068431089737,
          0.49680354997358006,
          null
         ]
        },
        {
         "hoverinfo": "text",
         "line": {
          "color": "lightgray",
          "width": 0.46961325966850825
         },
         "mode": "lines",
         "text": [
          null
         ],
         "type": "scatter",
         "x": [
          0.016489142597232755,
          -0.43833329307860847,
          null
         ],
         "y": [
          0.13119068431089737,
          -0.13293892873944937,
          null
         ]
        },
        {
         "hoverinfo": "text",
         "line": {
          "color": "lightgray",
          "width": 0.12430939226519336
         },
         "mode": "lines",
         "text": [
          null
         ],
         "type": "scatter",
         "x": [
          0.016489142597232755,
          0.4305859558793946,
          null
         ],
         "y": [
          0.13119068431089737,
          -1,
          null
         ]
        },
        {
         "hoverinfo": "text",
         "line": {
          "color": "lightgray",
          "width": 0.49723756906077343
         },
         "mode": "lines",
         "text": [
          null
         ],
         "type": "scatter",
         "x": [
          0.016489142597232755,
          0.49297293583416324,
          null
         ],
         "y": [
          0.13119068431089737,
          -0.36599264852099705,
          null
         ]
        },
        {
         "hoverinfo": "text",
         "line": {
          "color": "lightgray",
          "width": 2.203038674033149
         },
         "mode": "lines",
         "text": [
          null
         ],
         "type": "scatter",
         "x": [
          0.016489142597232755,
          0.395890985874124,
          null
         ],
         "y": [
          0.13119068431089737,
          0.42065408068796334,
          null
         ]
        },
        {
         "hoverinfo": "text",
         "line": {
          "color": "lightgray",
          "width": 2.6588397790055245
         },
         "mode": "lines",
         "text": [
          null
         ],
         "type": "scatter",
         "x": [
          0.016489142597232755,
          0.3147083241184152,
          null
         ],
         "y": [
          0.13119068431089737,
          0.07681198567342987,
          null
         ]
        },
        {
         "hoverinfo": "text",
         "line": {
          "color": "lightgray",
          "width": 0.4558011049723757
         },
         "mode": "lines",
         "text": [
          null
         ],
         "type": "scatter",
         "x": [
          0.016489142597232755,
          -0.1897337978748282,
          null
         ],
         "y": [
          0.13119068431089737,
          0.6034857489615423,
          null
         ]
        },
        {
         "hoverinfo": "text",
         "line": {
          "color": "lightgray",
          "width": 2.596685082872928
         },
         "mode": "lines",
         "text": [
          null
         ],
         "type": "scatter",
         "x": [
          0.016489142597232755,
          0.3334044306573679,
          null
         ],
         "y": [
          0.13119068431089737,
          0.24181383235872508,
          null
         ]
        },
        {
         "hoverinfo": "text",
         "line": {
          "color": "lightgray",
          "width": 0.22790055248618785
         },
         "mode": "lines",
         "text": [
          null
         ],
         "type": "scatter",
         "x": [
          0.016489142597232755,
          0.09931208437462029,
          null
         ],
         "y": [
          0.13119068431089737,
          -0.7937135077048361,
          null
         ]
        },
        {
         "hoverinfo": "text",
         "line": {
          "color": "lightgray",
          "width": 1.9958563535911602
         },
         "mode": "lines",
         "text": [
          null
         ],
         "type": "scatter",
         "x": [
          0.016489142597232755,
          0.5717712605144891,
          null
         ],
         "y": [
          0.13119068431089737,
          0.24522090091834714,
          null
         ]
        },
        {
         "hoverinfo": "text",
         "line": {
          "color": "lightgray",
          "width": 1.0980662983425413
         },
         "mode": "lines",
         "text": [
          null
         ],
         "type": "scatter",
         "x": [
          0.016489142597232755,
          -0.22855420308682362,
          null
         ],
         "y": [
          0.13119068431089737,
          -0.5056353268290954,
          null
         ]
        },
        {
         "hoverinfo": "text",
         "line": {
          "color": "lightgray",
          "width": 0.40055248618784534
         },
         "mode": "lines",
         "text": [
          null
         ],
         "type": "scatter",
         "x": [
          0.016489142597232755,
          -0.418076518096579,
          null
         ],
         "y": [
          0.13119068431089737,
          0.6339746388849864,
          null
         ]
        },
        {
         "hoverinfo": "text",
         "line": {
          "color": "lightgray",
          "width": 0.4212707182320442
         },
         "mode": "lines",
         "text": [
          null
         ],
         "type": "scatter",
         "x": [
          0.016489142597232755,
          -0.5516397077201168,
          null
         ],
         "y": [
          0.13119068431089737,
          0.47744632400319703,
          null
         ]
        },
        {
         "hoverinfo": "text",
         "line": {
          "color": "lightgray",
          "width": 1.0773480662983426
         },
         "mode": "lines",
         "text": [
          null
         ],
         "type": "scatter",
         "x": [
          0.016489142597232755,
          -0.6226324796581008,
          null
         ],
         "y": [
          0.13119068431089737,
          -0.2380334304729279,
          null
         ]
        },
        {
         "hoverinfo": "text",
         "line": {
          "color": "lightgray",
          "width": 0.8977900552486189
         },
         "mode": "lines",
         "text": [
          null
         ],
         "type": "scatter",
         "x": [
          0.22733406589452143,
          -0.16200210966186554,
          null
         ],
         "y": [
          -0.019778729129045065,
          0.031109907824041563,
          null
         ]
        },
        {
         "hoverinfo": "text",
         "line": {
          "color": "lightgray",
          "width": 2.341160220994475
         },
         "mode": "lines",
         "text": [
          null
         ],
         "type": "scatter",
         "x": [
          0.22733406589452143,
          0.43841988598347487,
          null
         ],
         "y": [
          -0.019778729129045065,
          -0.045546826723280295,
          null
         ]
        },
        {
         "hoverinfo": "text",
         "line": {
          "color": "lightgray",
          "width": 0.7734806629834254
         },
         "mode": "lines",
         "text": [
          null
         ],
         "type": "scatter",
         "x": [
          0.22733406589452143,
          -0.17591175735581896,
          null
         ],
         "y": [
          -0.019778729129045065,
          -0.12418361613540607,
          null
         ]
        },
        {
         "hoverinfo": "text",
         "line": {
          "color": "lightgray",
          "width": 0.8977900552486189
         },
         "mode": "lines",
         "text": [
          null
         ],
         "type": "scatter",
         "x": [
          0.22733406589452143,
          -0.0767423723202436,
          null
         ],
         "y": [
          -0.019778729129045065,
          -0.30276218734028143,
          null
         ]
        },
        {
         "hoverinfo": "text",
         "line": {
          "color": "lightgray",
          "width": 0.5939226519337016
         },
         "mode": "lines",
         "text": [
          null
         ],
         "type": "scatter",
         "x": [
          0.22733406589452143,
          -0.28632724718262753,
          null
         ],
         "y": [
          -0.019778729129045065,
          0.18576515646533498,
          null
         ]
        },
        {
         "hoverinfo": "text",
         "line": {
          "color": "lightgray",
          "width": 0.23480662983425413
         },
         "mode": "lines",
         "text": [
          null
         ],
         "type": "scatter",
         "x": [
          0.22733406589452143,
          -0.571040093912385,
          null
         ],
         "y": [
          -0.019778729129045065,
          0.2719947043901977,
          null
         ]
        },
        {
         "hoverinfo": "text",
         "line": {
          "color": "lightgray",
          "width": 0.8011049723756907
         },
         "mode": "lines",
         "text": [
          null
         ],
         "type": "scatter",
         "x": [
          0.22733406589452143,
          0.07709785070579007,
          null
         ],
         "y": [
          -0.019778729129045065,
          -0.1776465222512632,
          null
         ]
        },
        {
         "hoverinfo": "text",
         "line": {
          "color": "lightgray",
          "width": 2.589779005524862
         },
         "mode": "lines",
         "text": [
          null
         ],
         "type": "scatter",
         "x": [
          0.22733406589452143,
          0.1732404570685771,
          null
         ],
         "y": [
          -0.019778729129045065,
          0.3809486423258723,
          null
         ]
        },
        {
         "hoverinfo": "text",
         "line": {
          "color": "lightgray",
          "width": 0.9875690607734806
         },
         "mode": "lines",
         "text": [
          null
         ],
         "type": "scatter",
         "x": [
          0.22733406589452143,
          -0.029390811224429676,
          null
         ],
         "y": [
          -0.019778729129045065,
          0.49680354997358006,
          null
         ]
        },
        {
         "hoverinfo": "text",
         "line": {
          "color": "lightgray",
          "width": 0.3660220994475138
         },
         "mode": "lines",
         "text": [
          null
         ],
         "type": "scatter",
         "x": [
          0.22733406589452143,
          -0.43833329307860847,
          null
         ],
         "y": [
          -0.019778729129045065,
          -0.13293892873944937,
          null
         ]
        },
        {
         "hoverinfo": "text",
         "line": {
          "color": "lightgray",
          "width": 0.06906077348066297
         },
         "mode": "lines",
         "text": [
          null
         ],
         "type": "scatter",
         "x": [
          0.22733406589452143,
          0.4305859558793946,
          null
         ],
         "y": [
          -0.019778729129045065,
          -1,
          null
         ]
        },
        {
         "hoverinfo": "text",
         "line": {
          "color": "lightgray",
          "width": 0.3729281767955801
         },
         "mode": "lines",
         "text": [
          null
         ],
         "type": "scatter",
         "x": [
          0.22733406589452143,
          0.49297293583416324,
          null
         ],
         "y": [
          -0.019778729129045065,
          -0.36599264852099705,
          null
         ]
        },
        {
         "hoverinfo": "text",
         "line": {
          "color": "lightgray",
          "width": 2.0303867403314917
         },
         "mode": "lines",
         "text": [
          null
         ],
         "type": "scatter",
         "x": [
          0.22733406589452143,
          0.395890985874124,
          null
         ],
         "y": [
          -0.019778729129045065,
          0.42065408068796334,
          null
         ]
        },
        {
         "hoverinfo": "text",
         "line": {
          "color": "lightgray",
          "width": 2.31353591160221
         },
         "mode": "lines",
         "text": [
          null
         ],
         "type": "scatter",
         "x": [
          0.22733406589452143,
          0.3147083241184152,
          null
         ],
         "y": [
          -0.019778729129045065,
          0.07681198567342987,
          null
         ]
        },
        {
         "hoverinfo": "text",
         "line": {
          "color": "lightgray",
          "width": 0.19337016574585636
         },
         "mode": "lines",
         "text": [
          null
         ],
         "type": "scatter",
         "x": [
          0.22733406589452143,
          -0.1897337978748282,
          null
         ],
         "y": [
          -0.019778729129045065,
          0.6034857489615423,
          null
         ]
        },
        {
         "hoverinfo": "text",
         "line": {
          "color": "lightgray",
          "width": 2.044198895027624
         },
         "mode": "lines",
         "text": [
          null
         ],
         "type": "scatter",
         "x": [
          0.22733406589452143,
          0.3334044306573679,
          null
         ],
         "y": [
          -0.019778729129045065,
          0.24181383235872508,
          null
         ]
        },
        {
         "hoverinfo": "text",
         "line": {
          "color": "lightgray",
          "width": 0.20027624309392267
         },
         "mode": "lines",
         "text": [
          null
         ],
         "type": "scatter",
         "x": [
          0.22733406589452143,
          0.09931208437462029,
          null
         ],
         "y": [
          -0.019778729129045065,
          -0.7937135077048361,
          null
         ]
        },
        {
         "hoverinfo": "text",
         "line": {
          "color": "lightgray",
          "width": 1.9751381215469612
         },
         "mode": "lines",
         "text": [
          null
         ],
         "type": "scatter",
         "x": [
          0.22733406589452143,
          0.5717712605144891,
          null
         ],
         "y": [
          -0.019778729129045065,
          0.24522090091834714,
          null
         ]
        },
        {
         "hoverinfo": "text",
         "line": {
          "color": "lightgray",
          "width": 0.5041436464088398
         },
         "mode": "lines",
         "text": [
          null
         ],
         "type": "scatter",
         "x": [
          0.22733406589452143,
          -0.22855420308682362,
          null
         ],
         "y": [
          -0.019778729129045065,
          -0.5056353268290954,
          null
         ]
        },
        {
         "hoverinfo": "text",
         "line": {
          "color": "lightgray",
          "width": 0.15883977900552487
         },
         "mode": "lines",
         "text": [
          null
         ],
         "type": "scatter",
         "x": [
          0.22733406589452143,
          -0.418076518096579,
          null
         ],
         "y": [
          -0.019778729129045065,
          0.6339746388849864,
          null
         ]
        },
        {
         "hoverinfo": "text",
         "line": {
          "color": "lightgray",
          "width": 0.20027624309392267
         },
         "mode": "lines",
         "text": [
          null
         ],
         "type": "scatter",
         "x": [
          0.22733406589452143,
          -0.5516397077201168,
          null
         ],
         "y": [
          -0.019778729129045065,
          0.47744632400319703,
          null
         ]
        },
        {
         "hoverinfo": "text",
         "line": {
          "color": "lightgray",
          "width": 0.6215469613259669
         },
         "mode": "lines",
         "text": [
          null
         ],
         "type": "scatter",
         "x": [
          0.22733406589452143,
          -0.6226324796581008,
          null
         ],
         "y": [
          -0.019778729129045065,
          -0.2380334304729279,
          null
         ]
        },
        {
         "hoverinfo": "text",
         "line": {
          "color": "lightgray",
          "width": 0.8701657458563536
         },
         "mode": "lines",
         "text": [
          null
         ],
         "type": "scatter",
         "x": [
          -0.16200210966186554,
          0.43841988598347487,
          null
         ],
         "y": [
          0.031109907824041563,
          -0.045546826723280295,
          null
         ]
        },
        {
         "hoverinfo": "text",
         "line": {
          "color": "lightgray",
          "width": 5
         },
         "mode": "lines",
         "text": [
          null
         ],
         "type": "scatter",
         "x": [
          -0.16200210966186554,
          -0.17591175735581896,
          null
         ],
         "y": [
          0.031109907824041563,
          -0.12418361613540607,
          null
         ]
        },
        {
         "hoverinfo": "text",
         "line": {
          "color": "lightgray",
          "width": 4.765193370165745
         },
         "mode": "lines",
         "text": [
          null
         ],
         "type": "scatter",
         "x": [
          -0.16200210966186554,
          -0.0767423723202436,
          null
         ],
         "y": [
          0.031109907824041563,
          -0.30276218734028143,
          null
         ]
        },
        {
         "hoverinfo": "text",
         "line": {
          "color": "lightgray",
          "width": 0.7044198895027625
         },
         "mode": "lines",
         "text": [
          null
         ],
         "type": "scatter",
         "x": [
          -0.16200210966186554,
          -0.28632724718262753,
          null
         ],
         "y": [
          0.031109907824041563,
          0.18576515646533498,
          null
         ]
        },
        {
         "hoverinfo": "text",
         "line": {
          "color": "lightgray",
          "width": 0.531767955801105
         },
         "mode": "lines",
         "text": [
          null
         ],
         "type": "scatter",
         "x": [
          -0.16200210966186554,
          -0.571040093912385,
          null
         ],
         "y": [
          0.031109907824041563,
          0.2719947043901977,
          null
         ]
        },
        {
         "hoverinfo": "text",
         "line": {
          "color": "lightgray",
          "width": 4.488950276243094
         },
         "mode": "lines",
         "text": [
          null
         ],
         "type": "scatter",
         "x": [
          -0.16200210966186554,
          0.07709785070579007,
          null
         ],
         "y": [
          0.031109907824041563,
          -0.1776465222512632,
          null
         ]
        },
        {
         "hoverinfo": "text",
         "line": {
          "color": "lightgray",
          "width": 0.7044198895027625
         },
         "mode": "lines",
         "text": [
          null
         ],
         "type": "scatter",
         "x": [
          -0.16200210966186554,
          0.1732404570685771,
          null
         ],
         "y": [
          0.031109907824041563,
          0.3809486423258723,
          null
         ]
        },
        {
         "hoverinfo": "text",
         "line": {
          "color": "lightgray",
          "width": 0.4765193370165746
         },
         "mode": "lines",
         "text": [
          null
         ],
         "type": "scatter",
         "x": [
          -0.16200210966186554,
          -0.029390811224429676,
          null
         ],
         "y": [
          0.031109907824041563,
          0.49680354997358006,
          null
         ]
        },
        {
         "hoverinfo": "text",
         "line": {
          "color": "lightgray",
          "width": 0.3867403314917127
         },
         "mode": "lines",
         "text": [
          null
         ],
         "type": "scatter",
         "x": [
          -0.16200210966186554,
          -0.43833329307860847,
          null
         ],
         "y": [
          0.031109907824041563,
          -0.13293892873944937,
          null
         ]
        },
        {
         "hoverinfo": "text",
         "line": {
          "color": "lightgray",
          "width": 0.09668508287292818
         },
         "mode": "lines",
         "text": [
          null
         ],
         "type": "scatter",
         "x": [
          -0.16200210966186554,
          0.4305859558793946,
          null
         ],
         "y": [
          0.031109907824041563,
          -1,
          null
         ]
        },
        {
         "hoverinfo": "text",
         "line": {
          "color": "lightgray",
          "width": 0.4281767955801105
         },
         "mode": "lines",
         "text": [
          null
         ],
         "type": "scatter",
         "x": [
          -0.16200210966186554,
          0.49297293583416324,
          null
         ],
         "y": [
          0.031109907824041563,
          -0.36599264852099705,
          null
         ]
        },
        {
         "hoverinfo": "text",
         "line": {
          "color": "lightgray",
          "width": 0.5662983425414365
         },
         "mode": "lines",
         "text": [
          null
         ],
         "type": "scatter",
         "x": [
          -0.16200210966186554,
          0.395890985874124,
          null
         ],
         "y": [
          0.031109907824041563,
          0.42065408068796334,
          null
         ]
        },
        {
         "hoverinfo": "text",
         "line": {
          "color": "lightgray",
          "width": 0.7044198895027625
         },
         "mode": "lines",
         "text": [
          null
         ],
         "type": "scatter",
         "x": [
          -0.16200210966186554,
          0.3147083241184152,
          null
         ],
         "y": [
          0.031109907824041563,
          0.07681198567342987,
          null
         ]
        },
        {
         "hoverinfo": "text",
         "line": {
          "color": "lightgray",
          "width": 0.4903314917127072
         },
         "mode": "lines",
         "text": [
          null
         ],
         "type": "scatter",
         "x": [
          -0.16200210966186554,
          -0.1897337978748282,
          null
         ],
         "y": [
          0.031109907824041563,
          0.6034857489615423,
          null
         ]
        },
        {
         "hoverinfo": "text",
         "line": {
          "color": "lightgray",
          "width": 0.6215469613259669
         },
         "mode": "lines",
         "text": [
          null
         ],
         "type": "scatter",
         "x": [
          -0.16200210966186554,
          0.3334044306573679,
          null
         ],
         "y": [
          0.031109907824041563,
          0.24181383235872508,
          null
         ]
        },
        {
         "hoverinfo": "text",
         "line": {
          "color": "lightgray",
          "width": 0.21408839779005526
         },
         "mode": "lines",
         "text": [
          null
         ],
         "type": "scatter",
         "x": [
          -0.16200210966186554,
          0.09931208437462029,
          null
         ],
         "y": [
          0.031109907824041563,
          -0.7937135077048361,
          null
         ]
        },
        {
         "hoverinfo": "text",
         "line": {
          "color": "lightgray",
          "width": 0.511049723756906
         },
         "mode": "lines",
         "text": [
          null
         ],
         "type": "scatter",
         "x": [
          -0.16200210966186554,
          0.5717712605144891,
          null
         ],
         "y": [
          0.031109907824041563,
          0.24522090091834714,
          null
         ]
        },
        {
         "hoverinfo": "text",
         "line": {
          "color": "lightgray",
          "width": 0.7113259668508287
         },
         "mode": "lines",
         "text": [
          null
         ],
         "type": "scatter",
         "x": [
          -0.16200210966186554,
          -0.22855420308682362,
          null
         ],
         "y": [
          0.031109907824041563,
          -0.5056353268290954,
          null
         ]
        },
        {
         "hoverinfo": "text",
         "line": {
          "color": "lightgray",
          "width": 0.4765193370165746
         },
         "mode": "lines",
         "text": [
          null
         ],
         "type": "scatter",
         "x": [
          -0.16200210966186554,
          -0.418076518096579,
          null
         ],
         "y": [
          0.031109907824041563,
          0.6339746388849864,
          null
         ]
        },
        {
         "hoverinfo": "text",
         "line": {
          "color": "lightgray",
          "width": 0.4419889502762431
         },
         "mode": "lines",
         "text": [
          null
         ],
         "type": "scatter",
         "x": [
          -0.16200210966186554,
          -0.5516397077201168,
          null
         ],
         "y": [
          0.031109907824041563,
          0.47744632400319703,
          null
         ]
        },
        {
         "hoverinfo": "text",
         "line": {
          "color": "lightgray",
          "width": 0.31077348066298344
         },
         "mode": "lines",
         "text": [
          null
         ],
         "type": "scatter",
         "x": [
          -0.16200210966186554,
          -0.6226324796581008,
          null
         ],
         "y": [
          0.031109907824041563,
          -0.2380334304729279,
          null
         ]
        },
        {
         "hoverinfo": "text",
         "line": {
          "color": "lightgray",
          "width": 0.8770718232044199
         },
         "mode": "lines",
         "text": [
          null
         ],
         "type": "scatter",
         "x": [
          0.43841988598347487,
          -0.17591175735581896,
          null
         ],
         "y": [
          -0.045546826723280295,
          -0.12418361613540607,
          null
         ]
        },
        {
         "hoverinfo": "text",
         "line": {
          "color": "lightgray",
          "width": 0.8908839779005524
         },
         "mode": "lines",
         "text": [
          null
         ],
         "type": "scatter",
         "x": [
          0.43841988598347487,
          -0.0767423723202436,
          null
         ],
         "y": [
          -0.045546826723280295,
          -0.30276218734028143,
          null
         ]
        },
        {
         "hoverinfo": "text",
         "line": {
          "color": "lightgray",
          "width": 0.5041436464088398
         },
         "mode": "lines",
         "text": [
          null
         ],
         "type": "scatter",
         "x": [
          0.43841988598347487,
          -0.28632724718262753,
          null
         ],
         "y": [
          -0.045546826723280295,
          0.18576515646533498,
          null
         ]
        },
        {
         "hoverinfo": "text",
         "line": {
          "color": "lightgray",
          "width": 0.20027624309392267
         },
         "mode": "lines",
         "text": [
          null
         ],
         "type": "scatter",
         "x": [
          0.43841988598347487,
          -0.571040093912385,
          null
         ],
         "y": [
          -0.045546826723280295,
          0.2719947043901977,
          null
         ]
        },
        {
         "hoverinfo": "text",
         "line": {
          "color": "lightgray",
          "width": 0.7734806629834254
         },
         "mode": "lines",
         "text": [
          null
         ],
         "type": "scatter",
         "x": [
          0.43841988598347487,
          0.07709785070579007,
          null
         ],
         "y": [
          -0.045546826723280295,
          -0.1776465222512632,
          null
         ]
        },
        {
         "hoverinfo": "text",
         "line": {
          "color": "lightgray",
          "width": 1.7679558011049723
         },
         "mode": "lines",
         "text": [
          null
         ],
         "type": "scatter",
         "x": [
          0.43841988598347487,
          0.1732404570685771,
          null
         ],
         "y": [
          -0.045546826723280295,
          0.3809486423258723,
          null
         ]
        },
        {
         "hoverinfo": "text",
         "line": {
          "color": "lightgray",
          "width": 0.6284530386740332
         },
         "mode": "lines",
         "text": [
          null
         ],
         "type": "scatter",
         "x": [
          0.43841988598347487,
          -0.029390811224429676,
          null
         ],
         "y": [
          -0.045546826723280295,
          0.49680354997358006,
          null
         ]
        },
        {
         "hoverinfo": "text",
         "line": {
          "color": "lightgray",
          "width": 0.2900552486187845
         },
         "mode": "lines",
         "text": [
          null
         ],
         "type": "scatter",
         "x": [
          0.43841988598347487,
          -0.43833329307860847,
          null
         ],
         "y": [
          -0.045546826723280295,
          -0.13293892873944937,
          null
         ]
        },
        {
         "hoverinfo": "text",
         "line": {
          "color": "lightgray",
          "width": 0.055248618784530384
         },
         "mode": "lines",
         "text": [
          null
         ],
         "type": "scatter",
         "x": [
          0.43841988598347487,
          0.4305859558793946,
          null
         ],
         "y": [
          -0.045546826723280295,
          -1,
          null
         ]
        },
        {
         "hoverinfo": "text",
         "line": {
          "color": "lightgray",
          "width": 0.2969613259668508
         },
         "mode": "lines",
         "text": [
          null
         ],
         "type": "scatter",
         "x": [
          0.43841988598347487,
          0.49297293583416324,
          null
         ],
         "y": [
          -0.045546826723280295,
          -0.36599264852099705,
          null
         ]
        },
        {
         "hoverinfo": "text",
         "line": {
          "color": "lightgray",
          "width": 1.4640883977900552
         },
         "mode": "lines",
         "text": [
          null
         ],
         "type": "scatter",
         "x": [
          0.43841988598347487,
          0.395890985874124,
          null
         ],
         "y": [
          -0.045546826723280295,
          0.42065408068796334,
          null
         ]
        },
        {
         "hoverinfo": "text",
         "line": {
          "color": "lightgray",
          "width": 1.7679558011049723
         },
         "mode": "lines",
         "text": [
          null
         ],
         "type": "scatter",
         "x": [
          0.43841988598347487,
          0.3147083241184152,
          null
         ],
         "y": [
          -0.045546826723280295,
          0.07681198567342987,
          null
         ]
        },
        {
         "hoverinfo": "text",
         "line": {
          "color": "lightgray",
          "width": 0.2762430939226519
         },
         "mode": "lines",
         "text": [
          null
         ],
         "type": "scatter",
         "x": [
          0.43841988598347487,
          -0.1897337978748282,
          null
         ],
         "y": [
          -0.045546826723280295,
          0.6034857489615423,
          null
         ]
        },
        {
         "hoverinfo": "text",
         "line": {
          "color": "lightgray",
          "width": 1.6091160220994474
         },
         "mode": "lines",
         "text": [
          null
         ],
         "type": "scatter",
         "x": [
          0.43841988598347487,
          0.3334044306573679,
          null
         ],
         "y": [
          -0.045546826723280295,
          0.24181383235872508,
          null
         ]
        },
        {
         "hoverinfo": "text",
         "line": {
          "color": "lightgray",
          "width": 0.17265193370165746
         },
         "mode": "lines",
         "text": [
          null
         ],
         "type": "scatter",
         "x": [
          0.43841988598347487,
          0.09931208437462029,
          null
         ],
         "y": [
          -0.045546826723280295,
          -0.7937135077048361,
          null
         ]
        },
        {
         "hoverinfo": "text",
         "line": {
          "color": "lightgray",
          "width": 1.277624309392265
         },
         "mode": "lines",
         "text": [
          null
         ],
         "type": "scatter",
         "x": [
          0.43841988598347487,
          0.5717712605144891,
          null
         ],
         "y": [
          -0.045546826723280295,
          0.24522090091834714,
          null
         ]
        },
        {
         "hoverinfo": "text",
         "line": {
          "color": "lightgray",
          "width": 0.4350828729281768
         },
         "mode": "lines",
         "text": [
          null
         ],
         "type": "scatter",
         "x": [
          0.43841988598347487,
          -0.22855420308682362,
          null
         ],
         "y": [
          -0.045546826723280295,
          -0.5056353268290954,
          null
         ]
        },
        {
         "hoverinfo": "text",
         "line": {
          "color": "lightgray",
          "width": 0.22099447513812154
         },
         "mode": "lines",
         "text": [
          null
         ],
         "type": "scatter",
         "x": [
          0.43841988598347487,
          -0.418076518096579,
          null
         ],
         "y": [
          -0.045546826723280295,
          0.6339746388849864,
          null
         ]
        },
        {
         "hoverinfo": "text",
         "line": {
          "color": "lightgray",
          "width": 0.26933701657458564
         },
         "mode": "lines",
         "text": [
          null
         ],
         "type": "scatter",
         "x": [
          0.43841988598347487,
          -0.5516397077201168,
          null
         ],
         "y": [
          -0.045546826723280295,
          0.47744632400319703,
          null
         ]
        },
        {
         "hoverinfo": "text",
         "line": {
          "color": "lightgray",
          "width": 0.22790055248618785
         },
         "mode": "lines",
         "text": [
          null
         ],
         "type": "scatter",
         "x": [
          0.43841988598347487,
          -0.6226324796581008,
          null
         ],
         "y": [
          -0.045546826723280295,
          -0.2380334304729279,
          null
         ]
        },
        {
         "hoverinfo": "text",
         "line": {
          "color": "lightgray",
          "width": 4.792817679558011
         },
         "mode": "lines",
         "text": [
          null
         ],
         "type": "scatter",
         "x": [
          -0.17591175735581896,
          -0.0767423723202436,
          null
         ],
         "y": [
          -0.12418361613540607,
          -0.30276218734028143,
          null
         ]
        },
        {
         "hoverinfo": "text",
         "line": {
          "color": "lightgray",
          "width": 0.718232044198895
         },
         "mode": "lines",
         "text": [
          null
         ],
         "type": "scatter",
         "x": [
          -0.17591175735581896,
          -0.28632724718262753,
          null
         ],
         "y": [
          -0.12418361613540607,
          0.18576515646533498,
          null
         ]
        },
        {
         "hoverinfo": "text",
         "line": {
          "color": "lightgray",
          "width": 0.4765193370165746
         },
         "mode": "lines",
         "text": [
          null
         ],
         "type": "scatter",
         "x": [
          -0.17591175735581896,
          -0.571040093912385,
          null
         ],
         "y": [
          -0.12418361613540607,
          0.2719947043901977,
          null
         ]
        },
        {
         "hoverinfo": "text",
         "line": {
          "color": "lightgray",
          "width": 4.661602209944752
         },
         "mode": "lines",
         "text": [
          null
         ],
         "type": "scatter",
         "x": [
          -0.17591175735581896,
          0.07709785070579007,
          null
         ],
         "y": [
          -0.12418361613540607,
          -0.1776465222512632,
          null
         ]
        },
        {
         "hoverinfo": "text",
         "line": {
          "color": "lightgray",
          "width": 0.6353591160220995
         },
         "mode": "lines",
         "text": [
          null
         ],
         "type": "scatter",
         "x": [
          -0.17591175735581896,
          0.1732404570685771,
          null
         ],
         "y": [
          -0.12418361613540607,
          0.3809486423258723,
          null
         ]
        },
        {
         "hoverinfo": "text",
         "line": {
          "color": "lightgray",
          "width": 0.4143646408839779
         },
         "mode": "lines",
         "text": [
          null
         ],
         "type": "scatter",
         "x": [
          -0.17591175735581896,
          -0.029390811224429676,
          null
         ],
         "y": [
          -0.12418361613540607,
          0.49680354997358006,
          null
         ]
        },
        {
         "hoverinfo": "text",
         "line": {
          "color": "lightgray",
          "width": 0.3591160220994475
         },
         "mode": "lines",
         "text": [
          null
         ],
         "type": "scatter",
         "x": [
          -0.17591175735581896,
          -0.43833329307860847,
          null
         ],
         "y": [
          -0.12418361613540607,
          -0.13293892873944937,
          null
         ]
        },
        {
         "hoverinfo": "text",
         "line": {
          "color": "lightgray",
          "width": 0.11740331491712706
         },
         "mode": "lines",
         "text": [
          null
         ],
         "type": "scatter",
         "x": [
          -0.17591175735581896,
          0.4305859558793946,
          null
         ],
         "y": [
          -0.12418361613540607,
          -1,
          null
         ]
        },
        {
         "hoverinfo": "text",
         "line": {
          "color": "lightgray",
          "width": 0.44889502762430944
         },
         "mode": "lines",
         "text": [
          null
         ],
         "type": "scatter",
         "x": [
          -0.17591175735581896,
          0.49297293583416324,
          null
         ],
         "y": [
          -0.12418361613540607,
          -0.36599264852099705,
          null
         ]
        },
        {
         "hoverinfo": "text",
         "line": {
          "color": "lightgray",
          "width": 0.4834254143646409
         },
         "mode": "lines",
         "text": [
          null
         ],
         "type": "scatter",
         "x": [
          -0.17591175735581896,
          0.395890985874124,
          null
         ],
         "y": [
          -0.12418361613540607,
          0.42065408068796334,
          null
         ]
        },
        {
         "hoverinfo": "text",
         "line": {
          "color": "lightgray",
          "width": 0.6906077348066298
         },
         "mode": "lines",
         "text": [
          null
         ],
         "type": "scatter",
         "x": [
          -0.17591175735581896,
          0.3147083241184152,
          null
         ],
         "y": [
          -0.12418361613540607,
          0.07681198567342987,
          null
         ]
        },
        {
         "hoverinfo": "text",
         "line": {
          "color": "lightgray",
          "width": 0.4765193370165746
         },
         "mode": "lines",
         "text": [
          null
         ],
         "type": "scatter",
         "x": [
          -0.17591175735581896,
          -0.1897337978748282,
          null
         ],
         "y": [
          -0.12418361613540607,
          0.6034857489615423,
          null
         ]
        },
        {
         "hoverinfo": "text",
         "line": {
          "color": "lightgray",
          "width": 0.6284530386740332
         },
         "mode": "lines",
         "text": [
          null
         ],
         "type": "scatter",
         "x": [
          -0.17591175735581896,
          0.3334044306573679,
          null
         ],
         "y": [
          -0.12418361613540607,
          0.24181383235872508,
          null
         ]
        },
        {
         "hoverinfo": "text",
         "line": {
          "color": "lightgray",
          "width": 0.24171270718232046
         },
         "mode": "lines",
         "text": [
          null
         ],
         "type": "scatter",
         "x": [
          -0.17591175735581896,
          0.09931208437462029,
          null
         ],
         "y": [
          -0.12418361613540607,
          -0.7937135077048361,
          null
         ]
        },
        {
         "hoverinfo": "text",
         "line": {
          "color": "lightgray",
          "width": 0.4281767955801105
         },
         "mode": "lines",
         "text": [
          null
         ],
         "type": "scatter",
         "x": [
          -0.17591175735581896,
          0.5717712605144891,
          null
         ],
         "y": [
          -0.12418361613540607,
          0.24522090091834714,
          null
         ]
        },
        {
         "hoverinfo": "text",
         "line": {
          "color": "lightgray",
          "width": 0.6422651933701657
         },
         "mode": "lines",
         "text": [
          null
         ],
         "type": "scatter",
         "x": [
          -0.17591175735581896,
          -0.22855420308682362,
          null
         ],
         "y": [
          -0.12418361613540607,
          -0.5056353268290954,
          null
         ]
        },
        {
         "hoverinfo": "text",
         "line": {
          "color": "lightgray",
          "width": 0.4281767955801105
         },
         "mode": "lines",
         "text": [
          null
         ],
         "type": "scatter",
         "x": [
          -0.17591175735581896,
          -0.418076518096579,
          null
         ],
         "y": [
          -0.12418361613540607,
          0.6339746388849864,
          null
         ]
        },
        {
         "hoverinfo": "text",
         "line": {
          "color": "lightgray",
          "width": 0.4281767955801105
         },
         "mode": "lines",
         "text": [
          null
         ],
         "type": "scatter",
         "x": [
          -0.17591175735581896,
          -0.5516397077201168,
          null
         ],
         "y": [
          -0.12418361613540607,
          0.47744632400319703,
          null
         ]
        },
        {
         "hoverinfo": "text",
         "line": {
          "color": "lightgray",
          "width": 0.22099447513812154
         },
         "mode": "lines",
         "text": [
          null
         ],
         "type": "scatter",
         "x": [
          -0.17591175735581896,
          -0.6226324796581008,
          null
         ],
         "y": [
          -0.12418361613540607,
          -0.2380334304729279,
          null
         ]
        },
        {
         "hoverinfo": "text",
         "line": {
          "color": "lightgray",
          "width": 0.6284530386740332
         },
         "mode": "lines",
         "text": [
          null
         ],
         "type": "scatter",
         "x": [
          -0.0767423723202436,
          -0.28632724718262753,
          null
         ],
         "y": [
          -0.30276218734028143,
          0.18576515646533498,
          null
         ]
        },
        {
         "hoverinfo": "text",
         "line": {
          "color": "lightgray",
          "width": 0.3660220994475138
         },
         "mode": "lines",
         "text": [
          null
         ],
         "type": "scatter",
         "x": [
          -0.0767423723202436,
          -0.571040093912385,
          null
         ],
         "y": [
          -0.30276218734028143,
          0.2719947043901977,
          null
         ]
        },
        {
         "hoverinfo": "text",
         "line": {
          "color": "lightgray",
          "width": 4.709944751381215
         },
         "mode": "lines",
         "text": [
          null
         ],
         "type": "scatter",
         "x": [
          -0.0767423723202436,
          0.07709785070579007,
          null
         ],
         "y": [
          -0.30276218734028143,
          -0.1776465222512632,
          null
         ]
        },
        {
         "hoverinfo": "text",
         "line": {
          "color": "lightgray",
          "width": 0.6353591160220995
         },
         "mode": "lines",
         "text": [
          null
         ],
         "type": "scatter",
         "x": [
          -0.0767423723202436,
          0.1732404570685771,
          null
         ],
         "y": [
          -0.30276218734028143,
          0.3809486423258723,
          null
         ]
        },
        {
         "hoverinfo": "text",
         "line": {
          "color": "lightgray",
          "width": 0.4212707182320442
         },
         "mode": "lines",
         "text": [
          null
         ],
         "type": "scatter",
         "x": [
          -0.0767423723202436,
          -0.029390811224429676,
          null
         ],
         "y": [
          -0.30276218734028143,
          0.49680354997358006,
          null
         ]
        },
        {
         "hoverinfo": "text",
         "line": {
          "color": "lightgray",
          "width": 0.3453038674033149
         },
         "mode": "lines",
         "text": [
          null
         ],
         "type": "scatter",
         "x": [
          -0.0767423723202436,
          -0.43833329307860847,
          null
         ],
         "y": [
          -0.30276218734028143,
          -0.13293892873944937,
          null
         ]
        },
        {
         "hoverinfo": "text",
         "line": {
          "color": "lightgray",
          "width": 0.11740331491712706
         },
         "mode": "lines",
         "text": [
          null
         ],
         "type": "scatter",
         "x": [
          -0.0767423723202436,
          0.4305859558793946,
          null
         ],
         "y": [
          -0.30276218734028143,
          -1,
          null
         ]
        },
        {
         "hoverinfo": "text",
         "line": {
          "color": "lightgray",
          "width": 0.3591160220994475
         },
         "mode": "lines",
         "text": [
          null
         ],
         "type": "scatter",
         "x": [
          -0.0767423723202436,
          0.49297293583416324,
          null
         ],
         "y": [
          -0.30276218734028143,
          -0.36599264852099705,
          null
         ]
        },
        {
         "hoverinfo": "text",
         "line": {
          "color": "lightgray",
          "width": 0.5662983425414365
         },
         "mode": "lines",
         "text": [
          null
         ],
         "type": "scatter",
         "x": [
          -0.0767423723202436,
          0.395890985874124,
          null
         ],
         "y": [
          -0.30276218734028143,
          0.42065408068796334,
          null
         ]
        },
        {
         "hoverinfo": "text",
         "line": {
          "color": "lightgray",
          "width": 0.6215469613259669
         },
         "mode": "lines",
         "text": [
          null
         ],
         "type": "scatter",
         "x": [
          -0.0767423723202436,
          0.3147083241184152,
          null
         ],
         "y": [
          -0.30276218734028143,
          0.07681198567342987,
          null
         ]
        },
        {
         "hoverinfo": "text",
         "line": {
          "color": "lightgray",
          "width": 0.40055248618784534
         },
         "mode": "lines",
         "text": [
          null
         ],
         "type": "scatter",
         "x": [
          -0.0767423723202436,
          -0.1897337978748282,
          null
         ],
         "y": [
          -0.30276218734028143,
          0.6034857489615423,
          null
         ]
        },
        {
         "hoverinfo": "text",
         "line": {
          "color": "lightgray",
          "width": 0.649171270718232
         },
         "mode": "lines",
         "text": [
          null
         ],
         "type": "scatter",
         "x": [
          -0.0767423723202436,
          0.3334044306573679,
          null
         ],
         "y": [
          -0.30276218734028143,
          0.24181383235872508,
          null
         ]
        },
        {
         "hoverinfo": "text",
         "line": {
          "color": "lightgray",
          "width": 0.20718232044198895
         },
         "mode": "lines",
         "text": [
          null
         ],
         "type": "scatter",
         "x": [
          -0.0767423723202436,
          0.09931208437462029,
          null
         ],
         "y": [
          -0.30276218734028143,
          -0.7937135077048361,
          null
         ]
        },
        {
         "hoverinfo": "text",
         "line": {
          "color": "lightgray",
          "width": 0.5041436464088398
         },
         "mode": "lines",
         "text": [
          null
         ],
         "type": "scatter",
         "x": [
          -0.0767423723202436,
          0.5717712605144891,
          null
         ],
         "y": [
          -0.30276218734028143,
          0.24522090091834714,
          null
         ]
        },
        {
         "hoverinfo": "text",
         "line": {
          "color": "lightgray",
          "width": 0.600828729281768
         },
         "mode": "lines",
         "text": [
          null
         ],
         "type": "scatter",
         "x": [
          -0.0767423723202436,
          -0.22855420308682362,
          null
         ],
         "y": [
          -0.30276218734028143,
          -0.5056353268290954,
          null
         ]
        },
        {
         "hoverinfo": "text",
         "line": {
          "color": "lightgray",
          "width": 0.35220994475138123
         },
         "mode": "lines",
         "text": [
          null
         ],
         "type": "scatter",
         "x": [
          -0.0767423723202436,
          -0.418076518096579,
          null
         ],
         "y": [
          -0.30276218734028143,
          0.6339746388849864,
          null
         ]
        },
        {
         "hoverinfo": "text",
         "line": {
          "color": "lightgray",
          "width": 0.3729281767955801
         },
         "mode": "lines",
         "text": [
          null
         ],
         "type": "scatter",
         "x": [
          -0.0767423723202436,
          -0.5516397077201168,
          null
         ],
         "y": [
          -0.30276218734028143,
          0.47744632400319703,
          null
         ]
        },
        {
         "hoverinfo": "text",
         "line": {
          "color": "lightgray",
          "width": 0.2900552486187845
         },
         "mode": "lines",
         "text": [
          null
         ],
         "type": "scatter",
         "x": [
          -0.0767423723202436,
          -0.6226324796581008,
          null
         ],
         "y": [
          -0.30276218734028143,
          -0.2380334304729279,
          null
         ]
        },
        {
         "hoverinfo": "text",
         "line": {
          "color": "lightgray",
          "width": 0.4903314917127072
         },
         "mode": "lines",
         "text": [
          null
         ],
         "type": "scatter",
         "x": [
          -0.28632724718262753,
          -0.571040093912385,
          null
         ],
         "y": [
          0.18576515646533498,
          0.2719947043901977,
          null
         ]
        },
        {
         "hoverinfo": "text",
         "line": {
          "color": "lightgray",
          "width": 0.5455801104972375
         },
         "mode": "lines",
         "text": [
          null
         ],
         "type": "scatter",
         "x": [
          -0.28632724718262753,
          0.07709785070579007,
          null
         ],
         "y": [
          0.18576515646533498,
          -0.1776465222512632,
          null
         ]
        },
        {
         "hoverinfo": "text",
         "line": {
          "color": "lightgray",
          "width": 0.4558011049723757
         },
         "mode": "lines",
         "text": [
          null
         ],
         "type": "scatter",
         "x": [
          -0.28632724718262753,
          0.1732404570685771,
          null
         ],
         "y": [
          0.18576515646533498,
          0.3809486423258723,
          null
         ]
        },
        {
         "hoverinfo": "text",
         "line": {
          "color": "lightgray",
          "width": 0.2969613259668508
         },
         "mode": "lines",
         "text": [
          null
         ],
         "type": "scatter",
         "x": [
          -0.28632724718262753,
          -0.029390811224429676,
          null
         ],
         "y": [
          0.18576515646533498,
          0.49680354997358006,
          null
         ]
        },
        {
         "hoverinfo": "text",
         "line": {
          "color": "lightgray",
          "width": 1.0704419889502763
         },
         "mode": "lines",
         "text": [
          null
         ],
         "type": "scatter",
         "x": [
          -0.28632724718262753,
          -0.43833329307860847,
          null
         ],
         "y": [
          0.18576515646533498,
          -0.13293892873944937,
          null
         ]
        },
        {
         "hoverinfo": "text",
         "line": {
          "color": "lightgray",
          "width": 0.04143646408839779
         },
         "mode": "lines",
         "text": [
          null
         ],
         "type": "scatter",
         "x": [
          -0.28632724718262753,
          0.4305859558793946,
          null
         ],
         "y": [
          0.18576515646533498,
          -1,
          null
         ]
        },
        {
         "hoverinfo": "text",
         "line": {
          "color": "lightgray",
          "width": 0.26243093922651933
         },
         "mode": "lines",
         "text": [
          null
         ],
         "type": "scatter",
         "x": [
          -0.28632724718262753,
          0.49297293583416324,
          null
         ],
         "y": [
          0.18576515646533498,
          -0.36599264852099705,
          null
         ]
        },
        {
         "hoverinfo": "text",
         "line": {
          "color": "lightgray",
          "width": 0.44889502762430944
         },
         "mode": "lines",
         "text": [
          null
         ],
         "type": "scatter",
         "x": [
          -0.28632724718262753,
          0.395890985874124,
          null
         ],
         "y": [
          0.18576515646533498,
          0.42065408068796334,
          null
         ]
        },
        {
         "hoverinfo": "text",
         "line": {
          "color": "lightgray",
          "width": 0.4765193370165746
         },
         "mode": "lines",
         "text": [
          null
         ],
         "type": "scatter",
         "x": [
          -0.28632724718262753,
          0.3147083241184152,
          null
         ],
         "y": [
          0.18576515646533498,
          0.07681198567342987,
          null
         ]
        },
        {
         "hoverinfo": "text",
         "line": {
          "color": "lightgray",
          "width": 0.3660220994475138
         },
         "mode": "lines",
         "text": [
          null
         ],
         "type": "scatter",
         "x": [
          -0.28632724718262753,
          -0.1897337978748282,
          null
         ],
         "y": [
          0.18576515646533498,
          0.6034857489615423,
          null
         ]
        },
        {
         "hoverinfo": "text",
         "line": {
          "color": "lightgray",
          "width": 0.4834254143646409
         },
         "mode": "lines",
         "text": [
          null
         ],
         "type": "scatter",
         "x": [
          -0.28632724718262753,
          0.3334044306573679,
          null
         ],
         "y": [
          0.18576515646533498,
          0.24181383235872508,
          null
         ]
        },
        {
         "hoverinfo": "text",
         "line": {
          "color": "lightgray",
          "width": 0.13812154696132595
         },
         "mode": "lines",
         "text": [
          null
         ],
         "type": "scatter",
         "x": [
          -0.28632724718262753,
          0.09931208437462029,
          null
         ],
         "y": [
          0.18576515646533498,
          -0.7937135077048361,
          null
         ]
        },
        {
         "hoverinfo": "text",
         "line": {
          "color": "lightgray",
          "width": 0.3383977900552486
         },
         "mode": "lines",
         "text": [
          null
         ],
         "type": "scatter",
         "x": [
          -0.28632724718262753,
          0.5717712605144891,
          null
         ],
         "y": [
          0.18576515646533498,
          0.24522090091834714,
          null
         ]
        },
        {
         "hoverinfo": "text",
         "line": {
          "color": "lightgray",
          "width": 0.7251381215469612
         },
         "mode": "lines",
         "text": [
          null
         ],
         "type": "scatter",
         "x": [
          -0.28632724718262753,
          -0.22855420308682362,
          null
         ],
         "y": [
          0.18576515646533498,
          -0.5056353268290954,
          null
         ]
        },
        {
         "hoverinfo": "text",
         "line": {
          "color": "lightgray",
          "width": 0.31077348066298344
         },
         "mode": "lines",
         "text": [
          null
         ],
         "type": "scatter",
         "x": [
          -0.28632724718262753,
          -0.418076518096579,
          null
         ],
         "y": [
          0.18576515646533498,
          0.6339746388849864,
          null
         ]
        },
        {
         "hoverinfo": "text",
         "line": {
          "color": "lightgray",
          "width": 0.30386740331491713
         },
         "mode": "lines",
         "text": [
          null
         ],
         "type": "scatter",
         "x": [
          -0.28632724718262753,
          -0.5516397077201168,
          null
         ],
         "y": [
          0.18576515646533498,
          0.47744632400319703,
          null
         ]
        },
        {
         "hoverinfo": "text",
         "line": {
          "color": "lightgray",
          "width": 0.23480662983425413
         },
         "mode": "lines",
         "text": [
          null
         ],
         "type": "scatter",
         "x": [
          -0.28632724718262753,
          -0.6226324796581008,
          null
         ],
         "y": [
          0.18576515646533498,
          -0.2380334304729279,
          null
         ]
        },
        {
         "hoverinfo": "text",
         "line": {
          "color": "lightgray",
          "width": 0.35220994475138123
         },
         "mode": "lines",
         "text": [
          null
         ],
         "type": "scatter",
         "x": [
          -0.571040093912385,
          0.07709785070579007,
          null
         ],
         "y": [
          0.2719947043901977,
          -0.1776465222512632,
          null
         ]
        },
        {
         "hoverinfo": "text",
         "line": {
          "color": "lightgray",
          "width": 0.31077348066298344
         },
         "mode": "lines",
         "text": [
          null
         ],
         "type": "scatter",
         "x": [
          -0.571040093912385,
          0.1732404570685771,
          null
         ],
         "y": [
          0.2719947043901977,
          0.3809486423258723,
          null
         ]
        },
        {
         "hoverinfo": "text",
         "line": {
          "color": "lightgray",
          "width": 1.0773480662983426
         },
         "mode": "lines",
         "text": [
          null
         ],
         "type": "scatter",
         "x": [
          -0.571040093912385,
          -0.029390811224429676,
          null
         ],
         "y": [
          0.2719947043901977,
          0.49680354997358006,
          null
         ]
        },
        {
         "hoverinfo": "text",
         "line": {
          "color": "lightgray",
          "width": 0.22790055248618785
         },
         "mode": "lines",
         "text": [
          null
         ],
         "type": "scatter",
         "x": [
          -0.571040093912385,
          -0.43833329307860847,
          null
         ],
         "y": [
          0.2719947043901977,
          -0.13293892873944937,
          null
         ]
        },
        {
         "hoverinfo": "text",
         "line": {
          "color": "lightgray",
          "width": 0.04834254143646409
         },
         "mode": "lines",
         "text": [
          null
         ],
         "type": "scatter",
         "x": [
          -0.571040093912385,
          0.4305859558793946,
          null
         ],
         "y": [
          0.2719947043901977,
          -1,
          null
         ]
        },
        {
         "hoverinfo": "text",
         "line": {
          "color": "lightgray",
          "width": 0.17955801104972374
         },
         "mode": "lines",
         "text": [
          null
         ],
         "type": "scatter",
         "x": [
          -0.571040093912385,
          0.49297293583416324,
          null
         ],
         "y": [
          0.2719947043901977,
          -0.36599264852099705,
          null
         ]
        },
        {
         "hoverinfo": "text",
         "line": {
          "color": "lightgray",
          "width": 0.22790055248618785
         },
         "mode": "lines",
         "text": [
          null
         ],
         "type": "scatter",
         "x": [
          -0.571040093912385,
          0.395890985874124,
          null
         ],
         "y": [
          0.2719947043901977,
          0.42065408068796334,
          null
         ]
        },
        {
         "hoverinfo": "text",
         "line": {
          "color": "lightgray",
          "width": 0.31767955801104975
         },
         "mode": "lines",
         "text": [
          null
         ],
         "type": "scatter",
         "x": [
          -0.571040093912385,
          0.3147083241184152,
          null
         ],
         "y": [
          0.2719947043901977,
          0.07681198567342987,
          null
         ]
        },
        {
         "hoverinfo": "text",
         "line": {
          "color": "lightgray",
          "width": 1.9544198895027622
         },
         "mode": "lines",
         "text": [
          null
         ],
         "type": "scatter",
         "x": [
          -0.571040093912385,
          -0.1897337978748282,
          null
         ],
         "y": [
          0.2719947043901977,
          0.6034857489615423,
          null
         ]
        },
        {
         "hoverinfo": "text",
         "line": {
          "color": "lightgray",
          "width": 0.24861878453038672
         },
         "mode": "lines",
         "text": [
          null
         ],
         "type": "scatter",
         "x": [
          -0.571040093912385,
          0.3334044306573679,
          null
         ],
         "y": [
          0.2719947043901977,
          0.24181383235872508,
          null
         ]
        },
        {
         "hoverinfo": "text",
         "line": {
          "color": "lightgray",
          "width": 0.09668508287292818
         },
         "mode": "lines",
         "text": [
          null
         ],
         "type": "scatter",
         "x": [
          -0.571040093912385,
          0.09931208437462029,
          null
         ],
         "y": [
          0.2719947043901977,
          -0.7937135077048361,
          null
         ]
        },
        {
         "hoverinfo": "text",
         "line": {
          "color": "lightgray",
          "width": 0.13812154696132595
         },
         "mode": "lines",
         "text": [
          null
         ],
         "type": "scatter",
         "x": [
          -0.571040093912385,
          0.5717712605144891,
          null
         ],
         "y": [
          0.2719947043901977,
          0.24522090091834714,
          null
         ]
        },
        {
         "hoverinfo": "text",
         "line": {
          "color": "lightgray",
          "width": 0.17265193370165746
         },
         "mode": "lines",
         "text": [
          null
         ],
         "type": "scatter",
         "x": [
          -0.571040093912385,
          -0.22855420308682362,
          null
         ],
         "y": [
          0.2719947043901977,
          -0.5056353268290954,
          null
         ]
        },
        {
         "hoverinfo": "text",
         "line": {
          "color": "lightgray",
          "width": 2.6864640883977904
         },
         "mode": "lines",
         "text": [
          null
         ],
         "type": "scatter",
         "x": [
          -0.571040093912385,
          -0.418076518096579,
          null
         ],
         "y": [
          0.2719947043901977,
          0.6339746388849864,
          null
         ]
        },
        {
         "hoverinfo": "text",
         "line": {
          "color": "lightgray",
          "width": 1.7610497237569063
         },
         "mode": "lines",
         "text": [
          null
         ],
         "type": "scatter",
         "x": [
          -0.571040093912385,
          -0.5516397077201168,
          null
         ],
         "y": [
          0.2719947043901977,
          0.47744632400319703,
          null
         ]
        },
        {
         "hoverinfo": "text",
         "line": {
          "color": "lightgray",
          "width": 0.24171270718232046
         },
         "mode": "lines",
         "text": [
          null
         ],
         "type": "scatter",
         "x": [
          -0.571040093912385,
          -0.6226324796581008,
          null
         ],
         "y": [
          0.2719947043901977,
          -0.2380334304729279,
          null
         ]
        },
        {
         "hoverinfo": "text",
         "line": {
          "color": "lightgray",
          "width": 0.6215469613259669
         },
         "mode": "lines",
         "text": [
          null
         ],
         "type": "scatter",
         "x": [
          0.07709785070579007,
          0.1732404570685771,
          null
         ],
         "y": [
          -0.1776465222512632,
          0.3809486423258723,
          null
         ]
        },
        {
         "hoverinfo": "text",
         "line": {
          "color": "lightgray",
          "width": 0.3867403314917127
         },
         "mode": "lines",
         "text": [
          null
         ],
         "type": "scatter",
         "x": [
          0.07709785070579007,
          -0.029390811224429676,
          null
         ],
         "y": [
          -0.1776465222512632,
          0.49680354997358006,
          null
         ]
        },
        {
         "hoverinfo": "text",
         "line": {
          "color": "lightgray",
          "width": 0.3314917127071823
         },
         "mode": "lines",
         "text": [
          null
         ],
         "type": "scatter",
         "x": [
          0.07709785070579007,
          -0.43833329307860847,
          null
         ],
         "y": [
          -0.1776465222512632,
          -0.13293892873944937,
          null
         ]
        },
        {
         "hoverinfo": "text",
         "line": {
          "color": "lightgray",
          "width": 0.055248618784530384
         },
         "mode": "lines",
         "text": [
          null
         ],
         "type": "scatter",
         "x": [
          0.07709785070579007,
          0.4305859558793946,
          null
         ],
         "y": [
          -0.1776465222512632,
          -1,
          null
         ]
        },
        {
         "hoverinfo": "text",
         "line": {
          "color": "lightgray",
          "width": 0.40055248618784534
         },
         "mode": "lines",
         "text": [
          null
         ],
         "type": "scatter",
         "x": [
          0.07709785070579007,
          0.49297293583416324,
          null
         ],
         "y": [
          -0.1776465222512632,
          -0.36599264852099705,
          null
         ]
        },
        {
         "hoverinfo": "text",
         "line": {
          "color": "lightgray",
          "width": 0.4419889502762431
         },
         "mode": "lines",
         "text": [
          null
         ],
         "type": "scatter",
         "x": [
          0.07709785070579007,
          0.395890985874124,
          null
         ],
         "y": [
          -0.1776465222512632,
          0.42065408068796334,
          null
         ]
        },
        {
         "hoverinfo": "text",
         "line": {
          "color": "lightgray",
          "width": 0.6422651933701657
         },
         "mode": "lines",
         "text": [
          null
         ],
         "type": "scatter",
         "x": [
          0.07709785070579007,
          0.3147083241184152,
          null
         ],
         "y": [
          -0.1776465222512632,
          0.07681198567342987,
          null
         ]
        },
        {
         "hoverinfo": "text",
         "line": {
          "color": "lightgray",
          "width": 0.31767955801104975
         },
         "mode": "lines",
         "text": [
          null
         ],
         "type": "scatter",
         "x": [
          0.07709785070579007,
          -0.1897337978748282,
          null
         ],
         "y": [
          -0.1776465222512632,
          0.6034857489615423,
          null
         ]
        },
        {
         "hoverinfo": "text",
         "line": {
          "color": "lightgray",
          "width": 0.600828729281768
         },
         "mode": "lines",
         "text": [
          null
         ],
         "type": "scatter",
         "x": [
          0.07709785070579007,
          0.3334044306573679,
          null
         ],
         "y": [
          -0.1776465222512632,
          0.24181383235872508,
          null
         ]
        },
        {
         "hoverinfo": "text",
         "line": {
          "color": "lightgray",
          "width": 0.17955801104972374
         },
         "mode": "lines",
         "text": [
          null
         ],
         "type": "scatter",
         "x": [
          0.07709785070579007,
          0.09931208437462029,
          null
         ],
         "y": [
          -0.1776465222512632,
          -0.7937135077048361,
          null
         ]
        },
        {
         "hoverinfo": "text",
         "line": {
          "color": "lightgray",
          "width": 0.4765193370165746
         },
         "mode": "lines",
         "text": [
          null
         ],
         "type": "scatter",
         "x": [
          0.07709785070579007,
          0.5717712605144891,
          null
         ],
         "y": [
          -0.1776465222512632,
          0.24522090091834714,
          null
         ]
        },
        {
         "hoverinfo": "text",
         "line": {
          "color": "lightgray",
          "width": 0.7044198895027625
         },
         "mode": "lines",
         "text": [
          null
         ],
         "type": "scatter",
         "x": [
          0.07709785070579007,
          -0.22855420308682362,
          null
         ],
         "y": [
          -0.1776465222512632,
          -0.5056353268290954,
          null
         ]
        },
        {
         "hoverinfo": "text",
         "line": {
          "color": "lightgray",
          "width": 0.324585635359116
         },
         "mode": "lines",
         "text": [
          null
         ],
         "type": "scatter",
         "x": [
          0.07709785070579007,
          -0.418076518096579,
          null
         ],
         "y": [
          -0.1776465222512632,
          0.6339746388849864,
          null
         ]
        },
        {
         "hoverinfo": "text",
         "line": {
          "color": "lightgray",
          "width": 0.31077348066298344
         },
         "mode": "lines",
         "text": [
          null
         ],
         "type": "scatter",
         "x": [
          0.07709785070579007,
          -0.5516397077201168,
          null
         ],
         "y": [
          -0.1776465222512632,
          0.47744632400319703,
          null
         ]
        },
        {
         "hoverinfo": "text",
         "line": {
          "color": "lightgray",
          "width": 0.17955801104972374
         },
         "mode": "lines",
         "text": [
          null
         ],
         "type": "scatter",
         "x": [
          0.07709785070579007,
          -0.6226324796581008,
          null
         ],
         "y": [
          -0.1776465222512632,
          -0.2380334304729279,
          null
         ]
        },
        {
         "hoverinfo": "text",
         "line": {
          "color": "lightgray",
          "width": 1.0082872928176796
         },
         "mode": "lines",
         "text": [
          null
         ],
         "type": "scatter",
         "x": [
          0.1732404570685771,
          -0.029390811224429676,
          null
         ],
         "y": [
          0.3809486423258723,
          0.49680354997358006,
          null
         ]
        },
        {
         "hoverinfo": "text",
         "line": {
          "color": "lightgray",
          "width": 0.44889502762430944
         },
         "mode": "lines",
         "text": [
          null
         ],
         "type": "scatter",
         "x": [
          0.1732404570685771,
          -0.43833329307860847,
          null
         ],
         "y": [
          0.3809486423258723,
          -0.13293892873944937,
          null
         ]
        },
        {
         "hoverinfo": "text",
         "line": {
          "color": "lightgray",
          "width": 0.013812154696132596
         },
         "mode": "lines",
         "text": [
          null
         ],
         "type": "scatter",
         "x": [
          0.1732404570685771,
          0.4305859558793946,
          null
         ],
         "y": [
          0.3809486423258723,
          -1,
          null
         ]
        },
        {
         "hoverinfo": "text",
         "line": {
          "color": "lightgray",
          "width": 0.255524861878453
         },
         "mode": "lines",
         "text": [
          null
         ],
         "type": "scatter",
         "x": [
          0.1732404570685771,
          0.49297293583416324,
          null
         ],
         "y": [
          0.3809486423258723,
          -0.36599264852099705,
          null
         ]
        },
        {
         "hoverinfo": "text",
         "line": {
          "color": "lightgray",
          "width": 2.0718232044198897
         },
         "mode": "lines",
         "text": [
          null
         ],
         "type": "scatter",
         "x": [
          0.1732404570685771,
          0.395890985874124,
          null
         ],
         "y": [
          0.3809486423258723,
          0.42065408068796334,
          null
         ]
        },
        {
         "hoverinfo": "text",
         "line": {
          "color": "lightgray",
          "width": 2.941988950276243
         },
         "mode": "lines",
         "text": [
          null
         ],
         "type": "scatter",
         "x": [
          0.1732404570685771,
          0.3147083241184152,
          null
         ],
         "y": [
          0.3809486423258723,
          0.07681198567342987,
          null
         ]
        },
        {
         "hoverinfo": "text",
         "line": {
          "color": "lightgray",
          "width": 0.31077348066298344
         },
         "mode": "lines",
         "text": [
          null
         ],
         "type": "scatter",
         "x": [
          0.1732404570685771,
          -0.1897337978748282,
          null
         ],
         "y": [
          0.3809486423258723,
          0.6034857489615423,
          null
         ]
        },
        {
         "hoverinfo": "text",
         "line": {
          "color": "lightgray",
          "width": 1.9129834254143647
         },
         "mode": "lines",
         "text": [
          null
         ],
         "type": "scatter",
         "x": [
          0.1732404570685771,
          0.3334044306573679,
          null
         ],
         "y": [
          0.3809486423258723,
          0.24181383235872508,
          null
         ]
        },
        {
         "hoverinfo": "text",
         "line": {
          "color": "lightgray",
          "width": 0.08977900552486187
         },
         "mode": "lines",
         "text": [
          null
         ],
         "type": "scatter",
         "x": [
          0.1732404570685771,
          0.09931208437462029,
          null
         ],
         "y": [
          0.3809486423258723,
          -0.7937135077048361,
          null
         ]
        },
        {
         "hoverinfo": "text",
         "line": {
          "color": "lightgray",
          "width": 1.7196132596685083
         },
         "mode": "lines",
         "text": [
          null
         ],
         "type": "scatter",
         "x": [
          0.1732404570685771,
          0.5717712605144891,
          null
         ],
         "y": [
          0.3809486423258723,
          0.24522090091834714,
          null
         ]
        },
        {
         "hoverinfo": "text",
         "line": {
          "color": "lightgray",
          "width": 0.4143646408839779
         },
         "mode": "lines",
         "text": [
          null
         ],
         "type": "scatter",
         "x": [
          0.1732404570685771,
          -0.22855420308682362,
          null
         ],
         "y": [
          0.3809486423258723,
          -0.5056353268290954,
          null
         ]
        },
        {
         "hoverinfo": "text",
         "line": {
          "color": "lightgray",
          "width": 0.28314917127071826
         },
         "mode": "lines",
         "text": [
          null
         ],
         "type": "scatter",
         "x": [
          0.1732404570685771,
          -0.418076518096579,
          null
         ],
         "y": [
          0.3809486423258723,
          0.6339746388849864,
          null
         ]
        },
        {
         "hoverinfo": "text",
         "line": {
          "color": "lightgray",
          "width": 0.28314917127071826
         },
         "mode": "lines",
         "text": [
          null
         ],
         "type": "scatter",
         "x": [
          0.1732404570685771,
          -0.5516397077201168,
          null
         ],
         "y": [
          0.3809486423258723,
          0.47744632400319703,
          null
         ]
        },
        {
         "hoverinfo": "text",
         "line": {
          "color": "lightgray",
          "width": 0.255524861878453
         },
         "mode": "lines",
         "text": [
          null
         ],
         "type": "scatter",
         "x": [
          0.1732404570685771,
          -0.6226324796581008,
          null
         ],
         "y": [
          0.3809486423258723,
          -0.2380334304729279,
          null
         ]
        },
        {
         "hoverinfo": "text",
         "line": {
          "color": "lightgray",
          "width": 0.3591160220994475
         },
         "mode": "lines",
         "text": [
          null
         ],
         "type": "scatter",
         "x": [
          -0.029390811224429676,
          -0.43833329307860847,
          null
         ],
         "y": [
          0.49680354997358006,
          -0.13293892873944937,
          null
         ]
        },
        {
         "hoverinfo": "text",
         "line": {
          "color": "lightgray",
          "width": 0.027624309392265192
         },
         "mode": "lines",
         "text": [
          null
         ],
         "type": "scatter",
         "x": [
          -0.029390811224429676,
          0.4305859558793946,
          null
         ],
         "y": [
          0.49680354997358006,
          -1,
          null
         ]
        },
        {
         "hoverinfo": "text",
         "line": {
          "color": "lightgray",
          "width": 0.26933701657458564
         },
         "mode": "lines",
         "text": [
          null
         ],
         "type": "scatter",
         "x": [
          -0.029390811224429676,
          0.49297293583416324,
          null
         ],
         "y": [
          0.49680354997358006,
          -0.36599264852099705,
          null
         ]
        },
        {
         "hoverinfo": "text",
         "line": {
          "color": "lightgray",
          "width": 0.4558011049723757
         },
         "mode": "lines",
         "text": [
          null
         ],
         "type": "scatter",
         "x": [
          -0.029390811224429676,
          0.395890985874124,
          null
         ],
         "y": [
          0.49680354997358006,
          0.42065408068796334,
          null
         ]
        },
        {
         "hoverinfo": "text",
         "line": {
          "color": "lightgray",
          "width": 0.9944751381215469
         },
         "mode": "lines",
         "text": [
          null
         ],
         "type": "scatter",
         "x": [
          -0.029390811224429676,
          0.3147083241184152,
          null
         ],
         "y": [
          0.49680354997358006,
          0.07681198567342987,
          null
         ]
        },
        {
         "hoverinfo": "text",
         "line": {
          "color": "lightgray",
          "width": 2.1408839779005526
         },
         "mode": "lines",
         "text": [
          null
         ],
         "type": "scatter",
         "x": [
          -0.029390811224429676,
          -0.1897337978748282,
          null
         ],
         "y": [
          0.49680354997358006,
          0.6034857489615423,
          null
         ]
        },
        {
         "hoverinfo": "text",
         "line": {
          "color": "lightgray",
          "width": 0.8425414364640884
         },
         "mode": "lines",
         "text": [
          null
         ],
         "type": "scatter",
         "x": [
          -0.029390811224429676,
          0.3334044306573679,
          null
         ],
         "y": [
          0.49680354997358006,
          0.24181383235872508,
          null
         ]
        },
        {
         "hoverinfo": "text",
         "line": {
          "color": "lightgray",
          "width": 0.11049723756906077
         },
         "mode": "lines",
         "text": [
          null
         ],
         "type": "scatter",
         "x": [
          -0.029390811224429676,
          0.09931208437462029,
          null
         ],
         "y": [
          0.49680354997358006,
          -0.7937135077048361,
          null
         ]
        },
        {
         "hoverinfo": "text",
         "line": {
          "color": "lightgray",
          "width": 0.6767955801104972
         },
         "mode": "lines",
         "text": [
          null
         ],
         "type": "scatter",
         "x": [
          -0.029390811224429676,
          0.5717712605144891,
          null
         ],
         "y": [
          0.49680354997358006,
          0.24522090091834714,
          null
         ]
        },
        {
         "hoverinfo": "text",
         "line": {
          "color": "lightgray",
          "width": 0.28314917127071826
         },
         "mode": "lines",
         "text": [
          null
         ],
         "type": "scatter",
         "x": [
          -0.029390811224429676,
          -0.22855420308682362,
          null
         ],
         "y": [
          0.49680354997358006,
          -0.5056353268290954,
          null
         ]
        },
        {
         "hoverinfo": "text",
         "line": {
          "color": "lightgray",
          "width": 1.0359116022099448
         },
         "mode": "lines",
         "text": [
          null
         ],
         "type": "scatter",
         "x": [
          -0.029390811224429676,
          -0.418076518096579,
          null
         ],
         "y": [
          0.49680354997358006,
          0.6339746388849864,
          null
         ]
        },
        {
         "hoverinfo": "text",
         "line": {
          "color": "lightgray",
          "width": 1.277624309392265
         },
         "mode": "lines",
         "text": [
          null
         ],
         "type": "scatter",
         "x": [
          -0.029390811224429676,
          -0.5516397077201168,
          null
         ],
         "y": [
          0.49680354997358006,
          0.47744632400319703,
          null
         ]
        },
        {
         "hoverinfo": "text",
         "line": {
          "color": "lightgray",
          "width": 0.20718232044198895
         },
         "mode": "lines",
         "text": [
          null
         ],
         "type": "scatter",
         "x": [
          -0.029390811224429676,
          -0.6226324796581008,
          null
         ],
         "y": [
          0.49680354997358006,
          -0.2380334304729279,
          null
         ]
        },
        {
         "hoverinfo": "text",
         "line": {
          "color": "lightgray",
          "width": 0.04834254143646409
         },
         "mode": "lines",
         "text": [
          null
         ],
         "type": "scatter",
         "x": [
          -0.43833329307860847,
          0.4305859558793946,
          null
         ],
         "y": [
          -0.13293892873944937,
          -1,
          null
         ]
        },
        {
         "hoverinfo": "text",
         "line": {
          "color": "lightgray",
          "width": 0.255524861878453
         },
         "mode": "lines",
         "text": [
          null
         ],
         "type": "scatter",
         "x": [
          -0.43833329307860847,
          0.49297293583416324,
          null
         ],
         "y": [
          -0.13293892873944937,
          -0.36599264852099705,
          null
         ]
        },
        {
         "hoverinfo": "text",
         "line": {
          "color": "lightgray",
          "width": 0.24861878453038672
         },
         "mode": "lines",
         "text": [
          null
         ],
         "type": "scatter",
         "x": [
          -0.43833329307860847,
          0.395890985874124,
          null
         ],
         "y": [
          -0.13293892873944937,
          0.42065408068796334,
          null
         ]
        },
        {
         "hoverinfo": "text",
         "line": {
          "color": "lightgray",
          "width": 0.4074585635359116
         },
         "mode": "lines",
         "text": [
          null
         ],
         "type": "scatter",
         "x": [
          -0.43833329307860847,
          0.3147083241184152,
          null
         ],
         "y": [
          -0.13293892873944937,
          0.07681198567342987,
          null
         ]
        },
        {
         "hoverinfo": "text",
         "line": {
          "color": "lightgray",
          "width": 0.17955801104972374
         },
         "mode": "lines",
         "text": [
          null
         ],
         "type": "scatter",
         "x": [
          -0.43833329307860847,
          -0.1897337978748282,
          null
         ],
         "y": [
          -0.13293892873944937,
          0.6034857489615423,
          null
         ]
        },
        {
         "hoverinfo": "text",
         "line": {
          "color": "lightgray",
          "width": 0.26933701657458564
         },
         "mode": "lines",
         "text": [
          null
         ],
         "type": "scatter",
         "x": [
          -0.43833329307860847,
          0.3334044306573679,
          null
         ],
         "y": [
          -0.13293892873944937,
          0.24181383235872508,
          null
         ]
        },
        {
         "hoverinfo": "text",
         "line": {
          "color": "lightgray",
          "width": 0.08977900552486187
         },
         "mode": "lines",
         "text": [
          null
         ],
         "type": "scatter",
         "x": [
          -0.43833329307860847,
          0.09931208437462029,
          null
         ],
         "y": [
          -0.13293892873944937,
          -0.7937135077048361,
          null
         ]
        },
        {
         "hoverinfo": "text",
         "line": {
          "color": "lightgray",
          "width": 0.24171270718232046
         },
         "mode": "lines",
         "text": [
          null
         ],
         "type": "scatter",
         "x": [
          -0.43833329307860847,
          0.5717712605144891,
          null
         ],
         "y": [
          -0.13293892873944937,
          0.24522090091834714,
          null
         ]
        },
        {
         "hoverinfo": "text",
         "line": {
          "color": "lightgray",
          "width": 0.6422651933701657
         },
         "mode": "lines",
         "text": [
          null
         ],
         "type": "scatter",
         "x": [
          -0.43833329307860847,
          -0.22855420308682362,
          null
         ],
         "y": [
          -0.13293892873944937,
          -0.5056353268290954,
          null
         ]
        },
        {
         "hoverinfo": "text",
         "line": {
          "color": "lightgray",
          "width": 0.15883977900552487
         },
         "mode": "lines",
         "text": [
          null
         ],
         "type": "scatter",
         "x": [
          -0.43833329307860847,
          -0.418076518096579,
          null
         ],
         "y": [
          -0.13293892873944937,
          0.6339746388849864,
          null
         ]
        },
        {
         "hoverinfo": "text",
         "line": {
          "color": "lightgray",
          "width": 0.18646408839779005
         },
         "mode": "lines",
         "text": [
          null
         ],
         "type": "scatter",
         "x": [
          -0.43833329307860847,
          -0.5516397077201168,
          null
         ],
         "y": [
          -0.13293892873944937,
          0.47744632400319703,
          null
         ]
        },
        {
         "hoverinfo": "text",
         "line": {
          "color": "lightgray",
          "width": 0.12430939226519336
         },
         "mode": "lines",
         "text": [
          null
         ],
         "type": "scatter",
         "x": [
          -0.43833329307860847,
          -0.6226324796581008,
          null
         ],
         "y": [
          -0.13293892873944937,
          -0.2380334304729279,
          null
         ]
        },
        {
         "hoverinfo": "text",
         "line": {
          "color": "lightgray",
          "width": 0.13121546961325967
         },
         "mode": "lines",
         "text": [
          null
         ],
         "type": "scatter",
         "x": [
          0.4305859558793946,
          0.49297293583416324,
          null
         ],
         "y": [
          -1,
          -0.36599264852099705,
          null
         ]
        },
        {
         "hoverinfo": "text",
         "line": {
          "color": "lightgray",
          "width": 0.020718232044198894
         },
         "mode": "lines",
         "text": [
          null
         ],
         "type": "scatter",
         "x": [
          0.4305859558793946,
          0.395890985874124,
          null
         ],
         "y": [
          -1,
          0.42065408068796334,
          null
         ]
        },
        {
         "hoverinfo": "text",
         "line": {
          "color": "lightgray",
          "width": 0.027624309392265192
         },
         "mode": "lines",
         "text": [
          null
         ],
         "type": "scatter",
         "x": [
          0.4305859558793946,
          0.3147083241184152,
          null
         ],
         "y": [
          -1,
          0.07681198567342987,
          null
         ]
        },
        {
         "hoverinfo": "text",
         "line": {
          "color": "lightgray",
          "width": 0.020718232044198894
         },
         "mode": "lines",
         "text": [
          null
         ],
         "type": "scatter",
         "x": [
          0.4305859558793946,
          -0.1897337978748282,
          null
         ],
         "y": [
          -1,
          0.6034857489615423,
          null
         ]
        },
        {
         "hoverinfo": "text",
         "line": {
          "color": "lightgray",
          "width": 0.027624309392265192
         },
         "mode": "lines",
         "text": [
          null
         ],
         "type": "scatter",
         "x": [
          0.4305859558793946,
          0.3334044306573679,
          null
         ],
         "y": [
          -1,
          0.24181383235872508,
          null
         ]
        },
        {
         "hoverinfo": "text",
         "line": {
          "color": "lightgray",
          "width": 1.6505524861878453
         },
         "mode": "lines",
         "text": [
          null
         ],
         "type": "scatter",
         "x": [
          0.4305859558793946,
          0.09931208437462029,
          null
         ],
         "y": [
          -1,
          -0.7937135077048361,
          null
         ]
        },
        {
         "hoverinfo": "text",
         "line": {
          "color": "lightgray",
          "width": 0.020718232044198894
         },
         "mode": "lines",
         "text": [
          null
         ],
         "type": "scatter",
         "x": [
          0.4305859558793946,
          0.5717712605144891,
          null
         ],
         "y": [
          -1,
          0.24522090091834714,
          null
         ]
        },
        {
         "hoverinfo": "text",
         "line": {
          "color": "lightgray",
          "width": 0.03453038674033149
         },
         "mode": "lines",
         "text": [
          null
         ],
         "type": "scatter",
         "x": [
          0.4305859558793946,
          -0.22855420308682362,
          null
         ],
         "y": [
          -1,
          -0.5056353268290954,
          null
         ]
        },
        {
         "hoverinfo": "text",
         "line": {
          "color": "lightgray",
          "width": 0.013812154696132596
         },
         "mode": "lines",
         "text": [
          null
         ],
         "type": "scatter",
         "x": [
          0.4305859558793946,
          -0.418076518096579,
          null
         ],
         "y": [
          -1,
          0.6339746388849864,
          null
         ]
        },
        {
         "hoverinfo": "text",
         "line": {
          "color": "lightgray",
          "width": 0.006906077348066298
         },
         "mode": "lines",
         "text": [
          null
         ],
         "type": "scatter",
         "x": [
          0.4305859558793946,
          -0.5516397077201168,
          null
         ],
         "y": [
          -1,
          0.47744632400319703,
          null
         ]
        },
        {
         "hoverinfo": "text",
         "line": {
          "color": "lightgray",
          "width": 0.006906077348066298
         },
         "mode": "lines",
         "text": [
          null
         ],
         "type": "scatter",
         "x": [
          0.4305859558793946,
          -0.6226324796581008,
          null
         ],
         "y": [
          -1,
          -0.2380334304729279,
          null
         ]
        },
        {
         "hoverinfo": "text",
         "line": {
          "color": "lightgray",
          "width": 0.18646408839779005
         },
         "mode": "lines",
         "text": [
          null
         ],
         "type": "scatter",
         "x": [
          0.49297293583416324,
          0.395890985874124,
          null
         ],
         "y": [
          -0.36599264852099705,
          0.42065408068796334,
          null
         ]
        },
        {
         "hoverinfo": "text",
         "line": {
          "color": "lightgray",
          "width": 0.31077348066298344
         },
         "mode": "lines",
         "text": [
          null
         ],
         "type": "scatter",
         "x": [
          0.49297293583416324,
          0.3147083241184152,
          null
         ],
         "y": [
          -0.36599264852099705,
          0.07681198567342987,
          null
         ]
        },
        {
         "hoverinfo": "text",
         "line": {
          "color": "lightgray",
          "width": 0.16574585635359115
         },
         "mode": "lines",
         "text": [
          null
         ],
         "type": "scatter",
         "x": [
          0.49297293583416324,
          -0.1897337978748282,
          null
         ],
         "y": [
          -0.36599264852099705,
          0.6034857489615423,
          null
         ]
        },
        {
         "hoverinfo": "text",
         "line": {
          "color": "lightgray",
          "width": 0.255524861878453
         },
         "mode": "lines",
         "text": [
          null
         ],
         "type": "scatter",
         "x": [
          0.49297293583416324,
          0.3334044306573679,
          null
         ],
         "y": [
          -0.36599264852099705,
          0.24181383235872508,
          null
         ]
        },
        {
         "hoverinfo": "text",
         "line": {
          "color": "lightgray",
          "width": 0.3453038674033149
         },
         "mode": "lines",
         "text": [
          null
         ],
         "type": "scatter",
         "x": [
          0.49297293583416324,
          0.09931208437462029,
          null
         ],
         "y": [
          -0.36599264852099705,
          -0.7937135077048361,
          null
         ]
        },
        {
         "hoverinfo": "text",
         "line": {
          "color": "lightgray",
          "width": 0.20027624309392267
         },
         "mode": "lines",
         "text": [
          null
         ],
         "type": "scatter",
         "x": [
          0.49297293583416324,
          0.5717712605144891,
          null
         ],
         "y": [
          -0.36599264852099705,
          0.24522090091834714,
          null
         ]
        },
        {
         "hoverinfo": "text",
         "line": {
          "color": "lightgray",
          "width": 0.11049723756906077
         },
         "mode": "lines",
         "text": [
          null
         ],
         "type": "scatter",
         "x": [
          0.49297293583416324,
          -0.22855420308682362,
          null
         ],
         "y": [
          -0.36599264852099705,
          -0.5056353268290954,
          null
         ]
        },
        {
         "hoverinfo": "text",
         "line": {
          "color": "lightgray",
          "width": 0.13812154696132595
         },
         "mode": "lines",
         "text": [
          null
         ],
         "type": "scatter",
         "x": [
          0.49297293583416324,
          -0.418076518096579,
          null
         ],
         "y": [
          -0.36599264852099705,
          0.6339746388849864,
          null
         ]
        },
        {
         "hoverinfo": "text",
         "line": {
          "color": "lightgray",
          "width": 0.12430939226519336
         },
         "mode": "lines",
         "text": [
          null
         ],
         "type": "scatter",
         "x": [
          0.49297293583416324,
          -0.5516397077201168,
          null
         ],
         "y": [
          -0.36599264852099705,
          0.47744632400319703,
          null
         ]
        },
        {
         "hoverinfo": "text",
         "line": {
          "color": "lightgray",
          "width": 0.20027624309392267
         },
         "mode": "lines",
         "text": [
          null
         ],
         "type": "scatter",
         "x": [
          0.49297293583416324,
          -0.6226324796581008,
          null
         ],
         "y": [
          -0.36599264852099705,
          -0.2380334304729279,
          null
         ]
        },
        {
         "hoverinfo": "text",
         "line": {
          "color": "lightgray",
          "width": 1.7610497237569063
         },
         "mode": "lines",
         "text": [
          null
         ],
         "type": "scatter",
         "x": [
          0.395890985874124,
          0.3147083241184152,
          null
         ],
         "y": [
          0.42065408068796334,
          0.07681198567342987,
          null
         ]
        },
        {
         "hoverinfo": "text",
         "line": {
          "color": "lightgray",
          "width": 0.22099447513812154
         },
         "mode": "lines",
         "text": [
          null
         ],
         "type": "scatter",
         "x": [
          0.395890985874124,
          -0.1897337978748282,
          null
         ],
         "y": [
          0.42065408068796334,
          0.6034857489615423,
          null
         ]
        },
        {
         "hoverinfo": "text",
         "line": {
          "color": "lightgray",
          "width": 1.8646408839779005
         },
         "mode": "lines",
         "text": [
          null
         ],
         "type": "scatter",
         "x": [
          0.395890985874124,
          0.3334044306573679,
          null
         ],
         "y": [
          0.42065408068796334,
          0.24181383235872508,
          null
         ]
        },
        {
         "hoverinfo": "text",
         "line": {
          "color": "lightgray",
          "width": 0.06215469613259668
         },
         "mode": "lines",
         "text": [
          null
         ],
         "type": "scatter",
         "x": [
          0.395890985874124,
          0.09931208437462029,
          null
         ],
         "y": [
          0.42065408068796334,
          -0.7937135077048361,
          null
         ]
        },
        {
         "hoverinfo": "text",
         "line": {
          "color": "lightgray",
          "width": 1.8232044198895028
         },
         "mode": "lines",
         "text": [
          null
         ],
         "type": "scatter",
         "x": [
          0.395890985874124,
          0.5717712605144891,
          null
         ],
         "y": [
          0.42065408068796334,
          0.24522090091834714,
          null
         ]
        },
        {
         "hoverinfo": "text",
         "line": {
          "color": "lightgray",
          "width": 0.3383977900552486
         },
         "mode": "lines",
         "text": [
          null
         ],
         "type": "scatter",
         "x": [
          0.395890985874124,
          -0.22855420308682362,
          null
         ],
         "y": [
          0.42065408068796334,
          -0.5056353268290954,
          null
         ]
        },
        {
         "hoverinfo": "text",
         "line": {
          "color": "lightgray",
          "width": 0.20027624309392267
         },
         "mode": "lines",
         "text": [
          null
         ],
         "type": "scatter",
         "x": [
          0.395890985874124,
          -0.418076518096579,
          null
         ],
         "y": [
          0.42065408068796334,
          0.6339746388849864,
          null
         ]
        },
        {
         "hoverinfo": "text",
         "line": {
          "color": "lightgray",
          "width": 0.21408839779005526
         },
         "mode": "lines",
         "text": [
          null
         ],
         "type": "scatter",
         "x": [
          0.395890985874124,
          -0.5516397077201168,
          null
         ],
         "y": [
          0.42065408068796334,
          0.47744632400319703,
          null
         ]
        },
        {
         "hoverinfo": "text",
         "line": {
          "color": "lightgray",
          "width": 0.255524861878453
         },
         "mode": "lines",
         "text": [
          null
         ],
         "type": "scatter",
         "x": [
          0.395890985874124,
          -0.6226324796581008,
          null
         ],
         "y": [
          0.42065408068796334,
          -0.2380334304729279,
          null
         ]
        },
        {
         "hoverinfo": "text",
         "line": {
          "color": "lightgray",
          "width": 0.2762430939226519
         },
         "mode": "lines",
         "text": [
          null
         ],
         "type": "scatter",
         "x": [
          0.3147083241184152,
          -0.1897337978748282,
          null
         ],
         "y": [
          0.07681198567342987,
          0.6034857489615423,
          null
         ]
        },
        {
         "hoverinfo": "text",
         "line": {
          "color": "lightgray",
          "width": 1.7748618784530388
         },
         "mode": "lines",
         "text": [
          null
         ],
         "type": "scatter",
         "x": [
          0.3147083241184152,
          0.3334044306573679,
          null
         ],
         "y": [
          0.07681198567342987,
          0.24181383235872508,
          null
         ]
        },
        {
         "hoverinfo": "text",
         "line": {
          "color": "lightgray",
          "width": 0.08287292817679558
         },
         "mode": "lines",
         "text": [
          null
         ],
         "type": "scatter",
         "x": [
          0.3147083241184152,
          0.09931208437462029,
          null
         ],
         "y": [
          0.07681198567342987,
          -0.7937135077048361,
          null
         ]
        },
        {
         "hoverinfo": "text",
         "line": {
          "color": "lightgray",
          "width": 1.671270718232044
         },
         "mode": "lines",
         "text": [
          null
         ],
         "type": "scatter",
         "x": [
          0.3147083241184152,
          0.5717712605144891,
          null
         ],
         "y": [
          0.07681198567342987,
          0.24522090091834714,
          null
         ]
        },
        {
         "hoverinfo": "text",
         "line": {
          "color": "lightgray",
          "width": 0.4074585635359116
         },
         "mode": "lines",
         "text": [
          null
         ],
         "type": "scatter",
         "x": [
          0.3147083241184152,
          -0.22855420308682362,
          null
         ],
         "y": [
          0.07681198567342987,
          -0.5056353268290954,
          null
         ]
        },
        {
         "hoverinfo": "text",
         "line": {
          "color": "lightgray",
          "width": 0.28314917127071826
         },
         "mode": "lines",
         "text": [
          null
         ],
         "type": "scatter",
         "x": [
          0.3147083241184152,
          -0.418076518096579,
          null
         ],
         "y": [
          0.07681198567342987,
          0.6339746388849864,
          null
         ]
        },
        {
         "hoverinfo": "text",
         "line": {
          "color": "lightgray",
          "width": 0.23480662983425413
         },
         "mode": "lines",
         "text": [
          null
         ],
         "type": "scatter",
         "x": [
          0.3147083241184152,
          -0.5516397077201168,
          null
         ],
         "y": [
          0.07681198567342987,
          0.47744632400319703,
          null
         ]
        },
        {
         "hoverinfo": "text",
         "line": {
          "color": "lightgray",
          "width": 0.22790055248618785
         },
         "mode": "lines",
         "text": [
          null
         ],
         "type": "scatter",
         "x": [
          0.3147083241184152,
          -0.6226324796581008,
          null
         ],
         "y": [
          0.07681198567342987,
          -0.2380334304729279,
          null
         ]
        },
        {
         "hoverinfo": "text",
         "line": {
          "color": "lightgray",
          "width": 0.26243093922651933
         },
         "mode": "lines",
         "text": [
          null
         ],
         "type": "scatter",
         "x": [
          -0.1897337978748282,
          0.3334044306573679,
          null
         ],
         "y": [
          0.6034857489615423,
          0.24181383235872508,
          null
         ]
        },
        {
         "hoverinfo": "text",
         "line": {
          "color": "lightgray",
          "width": 0.07596685082872928
         },
         "mode": "lines",
         "text": [
          null
         ],
         "type": "scatter",
         "x": [
          -0.1897337978748282,
          0.09931208437462029,
          null
         ],
         "y": [
          0.6034857489615423,
          -0.7937135077048361,
          null
         ]
        },
        {
         "hoverinfo": "text",
         "line": {
          "color": "lightgray",
          "width": 0.18646408839779005
         },
         "mode": "lines",
         "text": [
          null
         ],
         "type": "scatter",
         "x": [
          -0.1897337978748282,
          0.5717712605144891,
          null
         ],
         "y": [
          0.6034857489615423,
          0.24522090091834714,
          null
         ]
        },
        {
         "hoverinfo": "text",
         "line": {
          "color": "lightgray",
          "width": 0.10359116022099447
         },
         "mode": "lines",
         "text": [
          null
         ],
         "type": "scatter",
         "x": [
          -0.1897337978748282,
          -0.22855420308682362,
          null
         ],
         "y": [
          0.6034857489615423,
          -0.5056353268290954,
          null
         ]
        },
        {
         "hoverinfo": "text",
         "line": {
          "color": "lightgray",
          "width": 1.8646408839779005
         },
         "mode": "lines",
         "text": [
          null
         ],
         "type": "scatter",
         "x": [
          -0.1897337978748282,
          -0.418076518096579,
          null
         ],
         "y": [
          0.6034857489615423,
          0.6339746388849864,
          null
         ]
        },
        {
         "hoverinfo": "text",
         "line": {
          "color": "lightgray",
          "width": 2.113259668508287
         },
         "mode": "lines",
         "text": [
          null
         ],
         "type": "scatter",
         "x": [
          -0.1897337978748282,
          -0.5516397077201168,
          null
         ],
         "y": [
          0.6034857489615423,
          0.47744632400319703,
          null
         ]
        },
        {
         "hoverinfo": "text",
         "line": {
          "color": "lightgray",
          "width": 0.11740331491712706
         },
         "mode": "lines",
         "text": [
          null
         ],
         "type": "scatter",
         "x": [
          -0.1897337978748282,
          -0.6226324796581008,
          null
         ],
         "y": [
          0.6034857489615423,
          -0.2380334304729279,
          null
         ]
        },
        {
         "hoverinfo": "text",
         "line": {
          "color": "lightgray",
          "width": 0.12430939226519336
         },
         "mode": "lines",
         "text": [
          null
         ],
         "type": "scatter",
         "x": [
          0.3334044306573679,
          0.09931208437462029,
          null
         ],
         "y": [
          0.24181383235872508,
          -0.7937135077048361,
          null
         ]
        },
        {
         "hoverinfo": "text",
         "line": {
          "color": "lightgray",
          "width": 2.755524861878453
         },
         "mode": "lines",
         "text": [
          null
         ],
         "type": "scatter",
         "x": [
          0.3334044306573679,
          0.5717712605144891,
          null
         ],
         "y": [
          0.24181383235872508,
          0.24522090091834714,
          null
         ]
        },
        {
         "hoverinfo": "text",
         "line": {
          "color": "lightgray",
          "width": 0.4834254143646409
         },
         "mode": "lines",
         "text": [
          null
         ],
         "type": "scatter",
         "x": [
          0.3334044306573679,
          -0.22855420308682362,
          null
         ],
         "y": [
          0.24181383235872508,
          -0.5056353268290954,
          null
         ]
        },
        {
         "hoverinfo": "text",
         "line": {
          "color": "lightgray",
          "width": 0.26933701657458564
         },
         "mode": "lines",
         "text": [
          null
         ],
         "type": "scatter",
         "x": [
          0.3334044306573679,
          -0.418076518096579,
          null
         ],
         "y": [
          0.24181383235872508,
          0.6339746388849864,
          null
         ]
        },
        {
         "hoverinfo": "text",
         "line": {
          "color": "lightgray",
          "width": 0.26933701657458564
         },
         "mode": "lines",
         "text": [
          null
         ],
         "type": "scatter",
         "x": [
          0.3334044306573679,
          -0.5516397077201168,
          null
         ],
         "y": [
          0.24181383235872508,
          0.47744632400319703,
          null
         ]
        },
        {
         "hoverinfo": "text",
         "line": {
          "color": "lightgray",
          "width": 0.18646408839779005
         },
         "mode": "lines",
         "text": [
          null
         ],
         "type": "scatter",
         "x": [
          0.3334044306573679,
          -0.6226324796581008,
          null
         ],
         "y": [
          0.24181383235872508,
          -0.2380334304729279,
          null
         ]
        },
        {
         "hoverinfo": "text",
         "line": {
          "color": "lightgray",
          "width": 0.09668508287292818
         },
         "mode": "lines",
         "text": [
          null
         ],
         "type": "scatter",
         "x": [
          0.09931208437462029,
          0.5717712605144891,
          null
         ],
         "y": [
          -0.7937135077048361,
          0.24522090091834714,
          null
         ]
        },
        {
         "hoverinfo": "text",
         "line": {
          "color": "lightgray",
          "width": 0.06906077348066297
         },
         "mode": "lines",
         "text": [
          null
         ],
         "type": "scatter",
         "x": [
          0.09931208437462029,
          -0.22855420308682362,
          null
         ],
         "y": [
          -0.7937135077048361,
          -0.5056353268290954,
          null
         ]
        },
        {
         "hoverinfo": "text",
         "line": {
          "color": "lightgray",
          "width": 0.055248618784530384
         },
         "mode": "lines",
         "text": [
          null
         ],
         "type": "scatter",
         "x": [
          0.09931208437462029,
          -0.418076518096579,
          null
         ],
         "y": [
          -0.7937135077048361,
          0.6339746388849864,
          null
         ]
        },
        {
         "hoverinfo": "text",
         "line": {
          "color": "lightgray",
          "width": 0.055248618784530384
         },
         "mode": "lines",
         "text": [
          null
         ],
         "type": "scatter",
         "x": [
          0.09931208437462029,
          -0.5516397077201168,
          null
         ],
         "y": [
          -0.7937135077048361,
          0.47744632400319703,
          null
         ]
        },
        {
         "hoverinfo": "text",
         "line": {
          "color": "lightgray",
          "width": 0.08977900552486187
         },
         "mode": "lines",
         "text": [
          null
         ],
         "type": "scatter",
         "x": [
          0.09931208437462029,
          -0.6226324796581008,
          null
         ],
         "y": [
          -0.7937135077048361,
          -0.2380334304729279,
          null
         ]
        },
        {
         "hoverinfo": "text",
         "line": {
          "color": "lightgray",
          "width": 0.3660220994475138
         },
         "mode": "lines",
         "text": [
          null
         ],
         "type": "scatter",
         "x": [
          0.5717712605144891,
          -0.22855420308682362,
          null
         ],
         "y": [
          0.24522090091834714,
          -0.5056353268290954,
          null
         ]
        },
        {
         "hoverinfo": "text",
         "line": {
          "color": "lightgray",
          "width": 0.11740331491712706
         },
         "mode": "lines",
         "text": [
          null
         ],
         "type": "scatter",
         "x": [
          0.5717712605144891,
          -0.418076518096579,
          null
         ],
         "y": [
          0.24522090091834714,
          0.6339746388849864,
          null
         ]
        },
        {
         "hoverinfo": "text",
         "line": {
          "color": "lightgray",
          "width": 0.17265193370165746
         },
         "mode": "lines",
         "text": [
          null
         ],
         "type": "scatter",
         "x": [
          0.5717712605144891,
          -0.5516397077201168,
          null
         ],
         "y": [
          0.24522090091834714,
          0.47744632400319703,
          null
         ]
        },
        {
         "hoverinfo": "text",
         "line": {
          "color": "lightgray",
          "width": 0.17265193370165746
         },
         "mode": "lines",
         "text": [
          null
         ],
         "type": "scatter",
         "x": [
          0.5717712605144891,
          -0.6226324796581008,
          null
         ],
         "y": [
          0.24522090091834714,
          -0.2380334304729279,
          null
         ]
        },
        {
         "hoverinfo": "text",
         "line": {
          "color": "lightgray",
          "width": 0.08287292817679558
         },
         "mode": "lines",
         "text": [
          null
         ],
         "type": "scatter",
         "x": [
          -0.22855420308682362,
          -0.418076518096579,
          null
         ],
         "y": [
          -0.5056353268290954,
          0.6339746388849864,
          null
         ]
        },
        {
         "hoverinfo": "text",
         "line": {
          "color": "lightgray",
          "width": 0.07596685082872928
         },
         "mode": "lines",
         "text": [
          null
         ],
         "type": "scatter",
         "x": [
          -0.22855420308682362,
          -0.5516397077201168,
          null
         ],
         "y": [
          -0.5056353268290954,
          0.47744632400319703,
          null
         ]
        },
        {
         "hoverinfo": "text",
         "line": {
          "color": "lightgray",
          "width": 0.11049723756906077
         },
         "mode": "lines",
         "text": [
          null
         ],
         "type": "scatter",
         "x": [
          -0.22855420308682362,
          -0.6226324796581008,
          null
         ],
         "y": [
          -0.5056353268290954,
          -0.2380334304729279,
          null
         ]
        },
        {
         "hoverinfo": "text",
         "line": {
          "color": "lightgray",
          "width": 1.8577348066298343
         },
         "mode": "lines",
         "text": [
          null
         ],
         "type": "scatter",
         "x": [
          -0.418076518096579,
          -0.5516397077201168,
          null
         ],
         "y": [
          0.6339746388849864,
          0.47744632400319703,
          null
         ]
        },
        {
         "hoverinfo": "text",
         "line": {
          "color": "lightgray",
          "width": 0.10359116022099447
         },
         "mode": "lines",
         "text": [
          null
         ],
         "type": "scatter",
         "x": [
          -0.418076518096579,
          -0.6226324796581008,
          null
         ],
         "y": [
          0.6339746388849864,
          -0.2380334304729279,
          null
         ]
        },
        {
         "hoverinfo": "text",
         "line": {
          "color": "lightgray",
          "width": 0.11740331491712706
         },
         "mode": "lines",
         "text": [
          null
         ],
         "type": "scatter",
         "x": [
          -0.5516397077201168,
          -0.6226324796581008,
          null
         ],
         "y": [
          0.47744632400319703,
          -0.2380334304729279,
          null
         ]
        },
        {
         "hoverinfo": "none",
         "marker": {
          "color": [
           "darkred",
           "darkblue",
           "gold",
           "gray",
           "lightblue",
           "gray",
           "gray",
           "forestgreen",
           "gray",
           "gray",
           "gray",
           "gray",
           "purple",
           "gray",
           "gray",
           "gray",
           "gray",
           "gray",
           "gray",
           "gray",
           "gray",
           "gray",
           "gray",
           "gray",
           "gray"
          ],
          "line": {
           "color": [
            "black",
            "black",
            "black",
            "darkgray",
            "black",
            "darkgray",
            "darkgray",
            "black",
            "darkgray",
            "darkgray",
            "darkgray",
            "darkgray",
            "black",
            "darkgray",
            "darkgray",
            "darkgray",
            "darkgray",
            "darkgray",
            "darkgray",
            "darkgray",
            "darkgray",
            "darkgray",
            "darkgray",
            "darkgray",
            "darkgray"
           ],
           "width": [
            2,
            2,
            2,
            2,
            2,
            2,
            2,
            2,
            2,
            2,
            2,
            2,
            2,
            2,
            2,
            2,
            2,
            2,
            2,
            2,
            2,
            2,
            2,
            2,
            2
           ]
          },
          "size": [
           20,
           26,
           21,
           23,
           18,
           22,
           22,
           11,
           13,
           21,
           20,
           15,
           8,
           8,
           8,
           16,
           19,
           13,
           19,
           9,
           16,
           9,
           12,
           12,
           7
          ]
         },
         "mode": "markers+text",
         "text": [
          "SPIDER-MAN",
          "<b>CAPTAIN AMERICA</b>",
          "IRON MAN",
          "THING",
          "THOR",
          "HUMAN TORCH",
          "MR. FANTASTIC",
          "HULK",
          "WOLVERINE",
          "INVISIBLE WOMAN",
          "SCARLET WITCH",
          "BEAST",
          "DR. STRANGE",
          "WATSON-PARKER, MARY",
          "DAREDEVIL",
          "HAWK",
          "VISION",
          "CYCLOPS",
          "WASP",
          "JAMESON, J. JONAH",
          "ANT-MAN",
          "SUB-MARINER",
          "STORM",
          "PROFESSOR X",
          "FURY, COL. NICHOLAS"
         ],
         "textfont": {
          "size": 10
         },
         "textposition": "top center",
         "type": "scatter",
         "x": [
          0.1791570116702574,
          0.016489142597232755,
          0.22733406589452143,
          -0.16200210966186554,
          0.43841988598347487,
          -0.17591175735581896,
          -0.0767423723202436,
          -0.28632724718262753,
          -0.571040093912385,
          0.07709785070579007,
          0.1732404570685771,
          -0.029390811224429676,
          -0.43833329307860847,
          0.4305859558793946,
          0.49297293583416324,
          0.395890985874124,
          0.3147083241184152,
          -0.1897337978748282,
          0.3334044306573679,
          0.09931208437462029,
          0.5717712605144891,
          -0.22855420308682362,
          -0.418076518096579,
          -0.5516397077201168,
          -0.6226324796581008
         ],
         "y": [
          -0.49098843293151323,
          0.13119068431089737,
          -0.019778729129045065,
          0.031109907824041563,
          -0.045546826723280295,
          -0.12418361613540607,
          -0.30276218734028143,
          0.18576515646533498,
          0.2719947043901977,
          -0.1776465222512632,
          0.3809486423258723,
          0.49680354997358006,
          -0.13293892873944937,
          -1,
          -0.36599264852099705,
          0.42065408068796334,
          0.07681198567342987,
          0.6034857489615423,
          0.24181383235872508,
          -0.7937135077048361,
          0.24522090091834714,
          -0.5056353268290954,
          0.6339746388849864,
          0.47744632400319703,
          -0.2380334304729279
         ]
        }
       ],
       "layout": {
        "paper_bgcolor": "rgba(0,0,0,0)",
        "plot_bgcolor": "rgba(0,0,0,0)",
        "showlegend": false,
        "template": {
         "data": {
          "bar": [
           {
            "error_x": {
             "color": "#2a3f5f"
            },
            "error_y": {
             "color": "#2a3f5f"
            },
            "marker": {
             "line": {
              "color": "#E5ECF6",
              "width": 0.5
             },
             "pattern": {
              "fillmode": "overlay",
              "size": 10,
              "solidity": 0.2
             }
            },
            "type": "bar"
           }
          ],
          "barpolar": [
           {
            "marker": {
             "line": {
              "color": "#E5ECF6",
              "width": 0.5
             },
             "pattern": {
              "fillmode": "overlay",
              "size": 10,
              "solidity": 0.2
             }
            },
            "type": "barpolar"
           }
          ],
          "carpet": [
           {
            "aaxis": {
             "endlinecolor": "#2a3f5f",
             "gridcolor": "white",
             "linecolor": "white",
             "minorgridcolor": "white",
             "startlinecolor": "#2a3f5f"
            },
            "baxis": {
             "endlinecolor": "#2a3f5f",
             "gridcolor": "white",
             "linecolor": "white",
             "minorgridcolor": "white",
             "startlinecolor": "#2a3f5f"
            },
            "type": "carpet"
           }
          ],
          "choropleth": [
           {
            "colorbar": {
             "outlinewidth": 0,
             "ticks": ""
            },
            "type": "choropleth"
           }
          ],
          "contour": [
           {
            "colorbar": {
             "outlinewidth": 0,
             "ticks": ""
            },
            "colorscale": [
             [
              0,
              "#0d0887"
             ],
             [
              0.1111111111111111,
              "#46039f"
             ],
             [
              0.2222222222222222,
              "#7201a8"
             ],
             [
              0.3333333333333333,
              "#9c179e"
             ],
             [
              0.4444444444444444,
              "#bd3786"
             ],
             [
              0.5555555555555556,
              "#d8576b"
             ],
             [
              0.6666666666666666,
              "#ed7953"
             ],
             [
              0.7777777777777778,
              "#fb9f3a"
             ],
             [
              0.8888888888888888,
              "#fdca26"
             ],
             [
              1,
              "#f0f921"
             ]
            ],
            "type": "contour"
           }
          ],
          "contourcarpet": [
           {
            "colorbar": {
             "outlinewidth": 0,
             "ticks": ""
            },
            "type": "contourcarpet"
           }
          ],
          "heatmap": [
           {
            "colorbar": {
             "outlinewidth": 0,
             "ticks": ""
            },
            "colorscale": [
             [
              0,
              "#0d0887"
             ],
             [
              0.1111111111111111,
              "#46039f"
             ],
             [
              0.2222222222222222,
              "#7201a8"
             ],
             [
              0.3333333333333333,
              "#9c179e"
             ],
             [
              0.4444444444444444,
              "#bd3786"
             ],
             [
              0.5555555555555556,
              "#d8576b"
             ],
             [
              0.6666666666666666,
              "#ed7953"
             ],
             [
              0.7777777777777778,
              "#fb9f3a"
             ],
             [
              0.8888888888888888,
              "#fdca26"
             ],
             [
              1,
              "#f0f921"
             ]
            ],
            "type": "heatmap"
           }
          ],
          "heatmapgl": [
           {
            "colorbar": {
             "outlinewidth": 0,
             "ticks": ""
            },
            "colorscale": [
             [
              0,
              "#0d0887"
             ],
             [
              0.1111111111111111,
              "#46039f"
             ],
             [
              0.2222222222222222,
              "#7201a8"
             ],
             [
              0.3333333333333333,
              "#9c179e"
             ],
             [
              0.4444444444444444,
              "#bd3786"
             ],
             [
              0.5555555555555556,
              "#d8576b"
             ],
             [
              0.6666666666666666,
              "#ed7953"
             ],
             [
              0.7777777777777778,
              "#fb9f3a"
             ],
             [
              0.8888888888888888,
              "#fdca26"
             ],
             [
              1,
              "#f0f921"
             ]
            ],
            "type": "heatmapgl"
           }
          ],
          "histogram": [
           {
            "marker": {
             "pattern": {
              "fillmode": "overlay",
              "size": 10,
              "solidity": 0.2
             }
            },
            "type": "histogram"
           }
          ],
          "histogram2d": [
           {
            "colorbar": {
             "outlinewidth": 0,
             "ticks": ""
            },
            "colorscale": [
             [
              0,
              "#0d0887"
             ],
             [
              0.1111111111111111,
              "#46039f"
             ],
             [
              0.2222222222222222,
              "#7201a8"
             ],
             [
              0.3333333333333333,
              "#9c179e"
             ],
             [
              0.4444444444444444,
              "#bd3786"
             ],
             [
              0.5555555555555556,
              "#d8576b"
             ],
             [
              0.6666666666666666,
              "#ed7953"
             ],
             [
              0.7777777777777778,
              "#fb9f3a"
             ],
             [
              0.8888888888888888,
              "#fdca26"
             ],
             [
              1,
              "#f0f921"
             ]
            ],
            "type": "histogram2d"
           }
          ],
          "histogram2dcontour": [
           {
            "colorbar": {
             "outlinewidth": 0,
             "ticks": ""
            },
            "colorscale": [
             [
              0,
              "#0d0887"
             ],
             [
              0.1111111111111111,
              "#46039f"
             ],
             [
              0.2222222222222222,
              "#7201a8"
             ],
             [
              0.3333333333333333,
              "#9c179e"
             ],
             [
              0.4444444444444444,
              "#bd3786"
             ],
             [
              0.5555555555555556,
              "#d8576b"
             ],
             [
              0.6666666666666666,
              "#ed7953"
             ],
             [
              0.7777777777777778,
              "#fb9f3a"
             ],
             [
              0.8888888888888888,
              "#fdca26"
             ],
             [
              1,
              "#f0f921"
             ]
            ],
            "type": "histogram2dcontour"
           }
          ],
          "mesh3d": [
           {
            "colorbar": {
             "outlinewidth": 0,
             "ticks": ""
            },
            "type": "mesh3d"
           }
          ],
          "parcoords": [
           {
            "line": {
             "colorbar": {
              "outlinewidth": 0,
              "ticks": ""
             }
            },
            "type": "parcoords"
           }
          ],
          "pie": [
           {
            "automargin": true,
            "type": "pie"
           }
          ],
          "scatter": [
           {
            "fillpattern": {
             "fillmode": "overlay",
             "size": 10,
             "solidity": 0.2
            },
            "type": "scatter"
           }
          ],
          "scatter3d": [
           {
            "line": {
             "colorbar": {
              "outlinewidth": 0,
              "ticks": ""
             }
            },
            "marker": {
             "colorbar": {
              "outlinewidth": 0,
              "ticks": ""
             }
            },
            "type": "scatter3d"
           }
          ],
          "scattercarpet": [
           {
            "marker": {
             "colorbar": {
              "outlinewidth": 0,
              "ticks": ""
             }
            },
            "type": "scattercarpet"
           }
          ],
          "scattergeo": [
           {
            "marker": {
             "colorbar": {
              "outlinewidth": 0,
              "ticks": ""
             }
            },
            "type": "scattergeo"
           }
          ],
          "scattergl": [
           {
            "marker": {
             "colorbar": {
              "outlinewidth": 0,
              "ticks": ""
             }
            },
            "type": "scattergl"
           }
          ],
          "scattermapbox": [
           {
            "marker": {
             "colorbar": {
              "outlinewidth": 0,
              "ticks": ""
             }
            },
            "type": "scattermapbox"
           }
          ],
          "scatterpolar": [
           {
            "marker": {
             "colorbar": {
              "outlinewidth": 0,
              "ticks": ""
             }
            },
            "type": "scatterpolar"
           }
          ],
          "scatterpolargl": [
           {
            "marker": {
             "colorbar": {
              "outlinewidth": 0,
              "ticks": ""
             }
            },
            "type": "scatterpolargl"
           }
          ],
          "scatterternary": [
           {
            "marker": {
             "colorbar": {
              "outlinewidth": 0,
              "ticks": ""
             }
            },
            "type": "scatterternary"
           }
          ],
          "surface": [
           {
            "colorbar": {
             "outlinewidth": 0,
             "ticks": ""
            },
            "colorscale": [
             [
              0,
              "#0d0887"
             ],
             [
              0.1111111111111111,
              "#46039f"
             ],
             [
              0.2222222222222222,
              "#7201a8"
             ],
             [
              0.3333333333333333,
              "#9c179e"
             ],
             [
              0.4444444444444444,
              "#bd3786"
             ],
             [
              0.5555555555555556,
              "#d8576b"
             ],
             [
              0.6666666666666666,
              "#ed7953"
             ],
             [
              0.7777777777777778,
              "#fb9f3a"
             ],
             [
              0.8888888888888888,
              "#fdca26"
             ],
             [
              1,
              "#f0f921"
             ]
            ],
            "type": "surface"
           }
          ],
          "table": [
           {
            "cells": {
             "fill": {
              "color": "#EBF0F8"
             },
             "line": {
              "color": "white"
             }
            },
            "header": {
             "fill": {
              "color": "#C8D4E3"
             },
             "line": {
              "color": "white"
             }
            },
            "type": "table"
           }
          ]
         },
         "layout": {
          "annotationdefaults": {
           "arrowcolor": "#2a3f5f",
           "arrowhead": 0,
           "arrowwidth": 1
          },
          "autotypenumbers": "strict",
          "coloraxis": {
           "colorbar": {
            "outlinewidth": 0,
            "ticks": ""
           }
          },
          "colorscale": {
           "diverging": [
            [
             0,
             "#8e0152"
            ],
            [
             0.1,
             "#c51b7d"
            ],
            [
             0.2,
             "#de77ae"
            ],
            [
             0.3,
             "#f1b6da"
            ],
            [
             0.4,
             "#fde0ef"
            ],
            [
             0.5,
             "#f7f7f7"
            ],
            [
             0.6,
             "#e6f5d0"
            ],
            [
             0.7,
             "#b8e186"
            ],
            [
             0.8,
             "#7fbc41"
            ],
            [
             0.9,
             "#4d9221"
            ],
            [
             1,
             "#276419"
            ]
           ],
           "sequential": [
            [
             0,
             "#0d0887"
            ],
            [
             0.1111111111111111,
             "#46039f"
            ],
            [
             0.2222222222222222,
             "#7201a8"
            ],
            [
             0.3333333333333333,
             "#9c179e"
            ],
            [
             0.4444444444444444,
             "#bd3786"
            ],
            [
             0.5555555555555556,
             "#d8576b"
            ],
            [
             0.6666666666666666,
             "#ed7953"
            ],
            [
             0.7777777777777778,
             "#fb9f3a"
            ],
            [
             0.8888888888888888,
             "#fdca26"
            ],
            [
             1,
             "#f0f921"
            ]
           ],
           "sequentialminus": [
            [
             0,
             "#0d0887"
            ],
            [
             0.1111111111111111,
             "#46039f"
            ],
            [
             0.2222222222222222,
             "#7201a8"
            ],
            [
             0.3333333333333333,
             "#9c179e"
            ],
            [
             0.4444444444444444,
             "#bd3786"
            ],
            [
             0.5555555555555556,
             "#d8576b"
            ],
            [
             0.6666666666666666,
             "#ed7953"
            ],
            [
             0.7777777777777778,
             "#fb9f3a"
            ],
            [
             0.8888888888888888,
             "#fdca26"
            ],
            [
             1,
             "#f0f921"
            ]
           ]
          },
          "colorway": [
           "#636efa",
           "#EF553B",
           "#00cc96",
           "#ab63fa",
           "#FFA15A",
           "#19d3f3",
           "#FF6692",
           "#B6E880",
           "#FF97FF",
           "#FECB52"
          ],
          "font": {
           "color": "#2a3f5f"
          },
          "geo": {
           "bgcolor": "white",
           "lakecolor": "white",
           "landcolor": "#E5ECF6",
           "showlakes": true,
           "showland": true,
           "subunitcolor": "white"
          },
          "hoverlabel": {
           "align": "left"
          },
          "hovermode": "closest",
          "mapbox": {
           "style": "light"
          },
          "paper_bgcolor": "white",
          "plot_bgcolor": "#E5ECF6",
          "polar": {
           "angularaxis": {
            "gridcolor": "white",
            "linecolor": "white",
            "ticks": ""
           },
           "bgcolor": "#E5ECF6",
           "radialaxis": {
            "gridcolor": "white",
            "linecolor": "white",
            "ticks": ""
           }
          },
          "scene": {
           "xaxis": {
            "backgroundcolor": "#E5ECF6",
            "gridcolor": "white",
            "gridwidth": 2,
            "linecolor": "white",
            "showbackground": true,
            "ticks": "",
            "zerolinecolor": "white"
           },
           "yaxis": {
            "backgroundcolor": "#E5ECF6",
            "gridcolor": "white",
            "gridwidth": 2,
            "linecolor": "white",
            "showbackground": true,
            "ticks": "",
            "zerolinecolor": "white"
           },
           "zaxis": {
            "backgroundcolor": "#E5ECF6",
            "gridcolor": "white",
            "gridwidth": 2,
            "linecolor": "white",
            "showbackground": true,
            "ticks": "",
            "zerolinecolor": "white"
           }
          },
          "shapedefaults": {
           "line": {
            "color": "#2a3f5f"
           }
          },
          "ternary": {
           "aaxis": {
            "gridcolor": "white",
            "linecolor": "white",
            "ticks": ""
           },
           "baxis": {
            "gridcolor": "white",
            "linecolor": "white",
            "ticks": ""
           },
           "bgcolor": "#E5ECF6",
           "caxis": {
            "gridcolor": "white",
            "linecolor": "white",
            "ticks": ""
           }
          },
          "title": {
           "x": 0.05
          },
          "xaxis": {
           "automargin": true,
           "gridcolor": "white",
           "linecolor": "white",
           "ticks": "",
           "title": {
            "standoff": 15
           },
           "zerolinecolor": "white",
           "zerolinewidth": 2
          },
          "yaxis": {
           "automargin": true,
           "gridcolor": "white",
           "linecolor": "white",
           "ticks": "",
           "title": {
            "standoff": 15
           },
           "zerolinecolor": "white",
           "zerolinewidth": 2
          }
         }
        },
        "title": {
         "text": "<b>Top 25 Heroes Network</b>"
        },
        "xaxis": {
         "showgrid": false,
         "showticklabels": false,
         "zeroline": false
        },
        "yaxis": {
         "showgrid": false,
         "showticklabels": false,
         "zeroline": false
        }
       }
      }
     },
     "metadata": {},
     "output_type": "display_data"
    }
   ],
   "source": [
    "\n",
    "## create an edge between node x and node y, with a given text and width\n",
    "def make_edge(x, y, text, width):\n",
    "    return  go.Scatter(x=x, y=y, line=dict(width=width, color='lightgray'), hoverinfo='text', text=([text]), mode='lines')\n",
    "\n",
    "## For each edge, make an edge_trace, append to list\n",
    "edge_trace = []\n",
    "for edge in marvel_net.edges():    \n",
    "    if marvel_net.edges()[edge]['weight'] > 0:\n",
    "        char_1 = edge[0]\n",
    "        char_2 = edge[1]\n",
    "        x0, y0 = pos_[char_1]\n",
    "        x1, y1 = pos_[char_2]\n",
    "        trace  = make_edge([x0, x1, None], [y0, y1, None], None, width=5*(marvel_net.edges()[edge]['weight']/appto_df['CNT'].max()))\n",
    "        edge_trace.append(trace)\n",
    "                \n",
    "## Make a node trace\n",
    "node_trace = go.Scatter(x=[], y=[], text=[], textposition=\"top center\", textfont_size=10, mode='markers+text', hoverinfo='none',\n",
    "                        marker=dict(color=[], size=[], line_width=[], line_color=[]))\n",
    "\n",
    "## For each node in network, get the position and size and add to the node_trace\n",
    "for node in marvel_net.nodes():\n",
    "    x, y = pos_[node]\n",
    "    node_trace['x'] += tuple([x])\n",
    "    node_trace['y'] += tuple([y])\n",
    "    color = 'gray'\n",
    "    line_width = 2\n",
    "    line_color = 'darkgray'\n",
    "    name_text = node\n",
    "    \n",
    "    if node in HERO_COLOR:\n",
    "        color = HERO_COLOR[node]; line_color='black';\n",
    "        \n",
    "    if node in [v[0] for v in cent_top]:\n",
    "        name_text = '<b>' + node + '</b>'\n",
    "        \n",
    "    node_trace['marker']['color'] += tuple([color])\n",
    "    node_trace['marker']['size'] += tuple([int(400*cent_[node])]) # node size is proportional to page rank\n",
    "    node_trace['marker']['line_width'] += tuple([line_width])\n",
    "    node_trace['marker']['line_color'] += tuple([line_color])\n",
    "    node_trace['text'] += tuple([name_text])\n",
    "    \n",
    "    \n",
    "## Customize layout\n",
    "layout = go.Layout(\n",
    "    paper_bgcolor='rgba(0,0,0,0)', # transparent background\n",
    "    plot_bgcolor='rgba(0,0,0,0)', \n",
    "    xaxis =  {'showgrid': False, 'zeroline': False}, \n",
    "    yaxis = {'showgrid': False, 'zeroline': False},\n",
    ")\n",
    "\n",
    "## Create figure\n",
    "fig = go.Figure(layout = layout)\n",
    "## Add all edge traces\n",
    "for trace in edge_trace:\n",
    "    fig.add_trace(trace)\n",
    "fig.add_trace(node_trace)\n",
    "fig.update_layout(showlegend = False)\n",
    "fig.update_xaxes(showticklabels = False)\n",
    "fig.update_yaxes(showticklabels = False)\n",
    "fig.update_layout(title=f\"<b>Top {topn} Heroes Network</b>\")\n",
    "fig.show()"
   ]
  }
 ],
 "metadata": {
  "kernelspec": {
   "display_name": "Python 3",
   "language": "python",
   "name": "python3"
  },
  "language_info": {
   "codemirror_mode": {
    "name": "ipython",
    "version": 3
   },
   "file_extension": ".py",
   "mimetype": "text/x-python",
   "name": "python",
   "nbconvert_exporter": "python",
   "pygments_lexer": "ipython3",
   "version": "3.11.3"
  }
 },
 "nbformat": 4,
 "nbformat_minor": 0
}
